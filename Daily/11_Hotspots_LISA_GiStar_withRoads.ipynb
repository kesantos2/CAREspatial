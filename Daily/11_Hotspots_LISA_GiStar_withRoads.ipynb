{
 "cells": [
  {
   "cell_type": "code",
   "execution_count": 12,
   "id": "91e68e4f-3451-4277-ac8d-eb6f8a467c04",
   "metadata": {},
   "outputs": [
    {
     "name": "stdout",
     "output_type": "stream",
     "text": [
      "\n",
      "*** TEST RUN on date_2025-02-06.gpkg ***\n",
      "\n",
      "2025-02-06: weights -> KNN (k=4) (n=5)\n"
     ]
    },
    {
     "name": "stderr",
     "output_type": "stream",
     "text": [
      "C:\\Users\\HP\\anaconda3\\envs\\CARESpatial\\Lib\\site-packages\\esda\\getisord.py:450: RuntimeWarning: invalid value encountered in divide\n",
      "  self.z_sim = (self.Gs - self.EG_sim) / self.seG_sim\n"
     ]
    },
    {
     "name": "stdout",
     "output_type": "stream",
     "text": [
      "Saved: date_2025-02-06_TEST.png | date_2025-02-06_hotspot_summary.csv\n"
     ]
    },
    {
     "name": "stdin",
     "output_type": "stream",
     "text": [
      "\n",
      "Check the TEST figure. Proceed with full run? (yes/no):  yes\n"
     ]
    },
    {
     "name": "stdout",
     "output_type": "stream",
     "text": [
      "\n",
      "Proceeding with full run...\n",
      "\n",
      "2025-02-07: weights -> KNN (k=4) (n=5)\n"
     ]
    },
    {
     "name": "stderr",
     "output_type": "stream",
     "text": [
      "C:\\Users\\HP\\anaconda3\\envs\\CARESpatial\\Lib\\site-packages\\esda\\moran.py:1351: RuntimeWarning: invalid value encountered in divide\n",
      "  self.z_sim = (self.Is - self.EI_sim) / self.seI_sim\n",
      "C:\\Users\\HP\\anaconda3\\envs\\CARESpatial\\Lib\\site-packages\\esda\\getisord.py:450: RuntimeWarning: divide by zero encountered in divide\n",
      "  self.z_sim = (self.Gs - self.EG_sim) / self.seG_sim\n",
      "C:\\Users\\HP\\anaconda3\\envs\\CARESpatial\\Lib\\site-packages\\esda\\getisord.py:450: RuntimeWarning: invalid value encountered in divide\n",
      "  self.z_sim = (self.Gs - self.EG_sim) / self.seG_sim\n"
     ]
    },
    {
     "name": "stdout",
     "output_type": "stream",
     "text": [
      "Saved: date_2025-02-07_hotspots_combined.png | date_2025-02-07_hotspot_summary.csv\n",
      "2025-02-08: weights -> KNN (k=4) (n=5)\n"
     ]
    },
    {
     "name": "stderr",
     "output_type": "stream",
     "text": [
      "C:\\Users\\HP\\anaconda3\\envs\\CARESpatial\\Lib\\site-packages\\esda\\moran.py:1351: RuntimeWarning: invalid value encountered in divide\n",
      "  self.z_sim = (self.Is - self.EI_sim) / self.seI_sim\n",
      "C:\\Users\\HP\\anaconda3\\envs\\CARESpatial\\Lib\\site-packages\\esda\\getisord.py:450: RuntimeWarning: divide by zero encountered in divide\n",
      "  self.z_sim = (self.Gs - self.EG_sim) / self.seG_sim\n",
      "C:\\Users\\HP\\anaconda3\\envs\\CARESpatial\\Lib\\site-packages\\esda\\getisord.py:450: RuntimeWarning: invalid value encountered in divide\n",
      "  self.z_sim = (self.Gs - self.EG_sim) / self.seG_sim\n"
     ]
    },
    {
     "name": "stdout",
     "output_type": "stream",
     "text": [
      "Saved: date_2025-02-08_hotspots_combined.png | date_2025-02-08_hotspot_summary.csv\n",
      "2025-02-09: weights -> KNN (k=4) (n=5)\n"
     ]
    },
    {
     "name": "stderr",
     "output_type": "stream",
     "text": [
      "C:\\Users\\HP\\anaconda3\\envs\\CARESpatial\\Lib\\site-packages\\esda\\getisord.py:450: RuntimeWarning: invalid value encountered in divide\n",
      "  self.z_sim = (self.Gs - self.EG_sim) / self.seG_sim\n"
     ]
    },
    {
     "name": "stdout",
     "output_type": "stream",
     "text": [
      "Saved: date_2025-02-09_hotspots_combined.png | date_2025-02-09_hotspot_summary.csv\n",
      "2025-02-10: weights -> KNN (k=4) (n=5)\n"
     ]
    },
    {
     "name": "stderr",
     "output_type": "stream",
     "text": [
      "C:\\Users\\HP\\anaconda3\\envs\\CARESpatial\\Lib\\site-packages\\esda\\moran.py:1351: RuntimeWarning: invalid value encountered in divide\n",
      "  self.z_sim = (self.Is - self.EI_sim) / self.seI_sim\n",
      "C:\\Users\\HP\\anaconda3\\envs\\CARESpatial\\Lib\\site-packages\\esda\\getisord.py:450: RuntimeWarning: invalid value encountered in divide\n",
      "  self.z_sim = (self.Gs - self.EG_sim) / self.seG_sim\n"
     ]
    },
    {
     "name": "stdout",
     "output_type": "stream",
     "text": [
      "Saved: date_2025-02-10_hotspots_combined.png | date_2025-02-10_hotspot_summary.csv\n",
      "2025-02-11: weights -> KNN (k=4) (n=5)\n"
     ]
    },
    {
     "name": "stderr",
     "output_type": "stream",
     "text": [
      "C:\\Users\\HP\\anaconda3\\envs\\CARESpatial\\Lib\\site-packages\\esda\\getisord.py:450: RuntimeWarning: divide by zero encountered in divide\n",
      "  self.z_sim = (self.Gs - self.EG_sim) / self.seG_sim\n",
      "C:\\Users\\HP\\anaconda3\\envs\\CARESpatial\\Lib\\site-packages\\esda\\getisord.py:450: RuntimeWarning: invalid value encountered in divide\n",
      "  self.z_sim = (self.Gs - self.EG_sim) / self.seG_sim\n"
     ]
    },
    {
     "name": "stdout",
     "output_type": "stream",
     "text": [
      "Saved: date_2025-02-11_hotspots_combined.png | date_2025-02-11_hotspot_summary.csv\n",
      "2025-02-12: weights -> KNN (k=6) (n=7)\n",
      "Saved: date_2025-02-12_hotspots_combined.png | date_2025-02-12_hotspot_summary.csv\n",
      "2025-02-13: weights -> KNN (k=7) (n=8)\n",
      "Saved: date_2025-02-13_hotspots_combined.png | date_2025-02-13_hotspot_summary.csv\n",
      "2025-02-14: weights -> KNN (k=7) (n=8)\n",
      "Saved: date_2025-02-14_hotspots_combined.png | date_2025-02-14_hotspot_summary.csv\n",
      "2025-02-15: weights -> KNN (k=6) (n=7)\n"
     ]
    },
    {
     "name": "stderr",
     "output_type": "stream",
     "text": [
      "C:\\Users\\HP\\anaconda3\\envs\\CARESpatial\\Lib\\site-packages\\esda\\moran.py:1351: RuntimeWarning: divide by zero encountered in divide\n",
      "  self.z_sim = (self.Is - self.EI_sim) / self.seI_sim\n"
     ]
    },
    {
     "name": "stdout",
     "output_type": "stream",
     "text": [
      "Saved: date_2025-02-15_hotspots_combined.png | date_2025-02-15_hotspot_summary.csv\n",
      "2025-02-16: weights -> KNN (k=6) (n=7)\n",
      "Saved: date_2025-02-16_hotspots_combined.png | date_2025-02-16_hotspot_summary.csv\n",
      "2025-02-17: weights -> KNN (k=7) (n=8)\n",
      "Saved: date_2025-02-17_hotspots_combined.png | date_2025-02-17_hotspot_summary.csv\n",
      "2025-02-18: weights -> KNN (k=7) (n=8)\n",
      "Saved: date_2025-02-18_hotspots_combined.png | date_2025-02-18_hotspot_summary.csv\n",
      "2025-02-19: weights -> KNN (k=7) (n=8)\n",
      "Saved: date_2025-02-19_hotspots_combined.png | date_2025-02-19_hotspot_summary.csv\n",
      "2025-02-20: weights -> KNN (k=7) (n=8)\n",
      "Saved: date_2025-02-20_hotspots_combined.png | date_2025-02-20_hotspot_summary.csv\n",
      "2025-02-21: weights -> KNN (k=7) (n=8)\n"
     ]
    },
    {
     "name": "stderr",
     "output_type": "stream",
     "text": [
      "C:\\Users\\HP\\anaconda3\\envs\\CARESpatial\\Lib\\site-packages\\esda\\getisord.py:450: RuntimeWarning: invalid value encountered in divide\n",
      "  self.z_sim = (self.Gs - self.EG_sim) / self.seG_sim\n"
     ]
    },
    {
     "name": "stdout",
     "output_type": "stream",
     "text": [
      "Saved: date_2025-02-21_hotspots_combined.png | date_2025-02-21_hotspot_summary.csv\n",
      "2025-02-22: weights -> KNN (k=7) (n=8)\n"
     ]
    },
    {
     "name": "stderr",
     "output_type": "stream",
     "text": [
      "C:\\Users\\HP\\anaconda3\\envs\\CARESpatial\\Lib\\site-packages\\esda\\getisord.py:450: RuntimeWarning: invalid value encountered in divide\n",
      "  self.z_sim = (self.Gs - self.EG_sim) / self.seG_sim\n"
     ]
    },
    {
     "name": "stdout",
     "output_type": "stream",
     "text": [
      "Saved: date_2025-02-22_hotspots_combined.png | date_2025-02-22_hotspot_summary.csv\n",
      "2025-02-23: weights -> KNN (k=7) (n=8)\n",
      "Saved: date_2025-02-23_hotspots_combined.png | date_2025-02-23_hotspot_summary.csv\n",
      "2025-02-24: weights -> KNN (k=7) (n=8)\n",
      "Saved: date_2025-02-24_hotspots_combined.png | date_2025-02-24_hotspot_summary.csv\n",
      "2025-02-25: weights -> KNN (k=7) (n=8)\n",
      "Saved: date_2025-02-25_hotspots_combined.png | date_2025-02-25_hotspot_summary.csv\n",
      "2025-02-26: weights -> KNN (k=8) (n=11)\n",
      "Saved: date_2025-02-26_hotspots_combined.png | date_2025-02-26_hotspot_summary.csv\n",
      "2025-02-27: weights -> KNN (k=8) (n=11)\n",
      "Saved: date_2025-02-27_hotspots_combined.png | date_2025-02-27_hotspot_summary.csv\n",
      "2025-02-28: weights -> KNN (k=8) (n=11)\n",
      "Saved: date_2025-02-28_hotspots_combined.png | date_2025-02-28_hotspot_summary.csv\n",
      "2025-03-01: weights -> KNN (k=8) (n=11)\n",
      "Saved: date_2025-03-01_hotspots_combined.png | date_2025-03-01_hotspot_summary.csv\n",
      "2025-03-02: weights -> KNN (k=8) (n=11)\n",
      "Saved: date_2025-03-02_hotspots_combined.png | date_2025-03-02_hotspot_summary.csv\n",
      "2025-03-03: weights -> KNN (k=8) (n=11)\n",
      "Saved: date_2025-03-03_hotspots_combined.png | date_2025-03-03_hotspot_summary.csv\n",
      "2025-03-04: weights -> KNN (k=8) (n=11)\n",
      "Saved: date_2025-03-04_hotspots_combined.png | date_2025-03-04_hotspot_summary.csv\n",
      "2025-03-05: weights -> KNN (k=8) (n=10)\n",
      "Saved: date_2025-03-05_hotspots_combined.png | date_2025-03-05_hotspot_summary.csv\n",
      "2025-03-06: weights -> KNN (k=8) (n=10)\n",
      "Saved: date_2025-03-06_hotspots_combined.png | date_2025-03-06_hotspot_summary.csv\n",
      "2025-03-07: weights -> KNN (k=8) (n=9)\n"
     ]
    },
    {
     "name": "stderr",
     "output_type": "stream",
     "text": [
      "C:\\Users\\HP\\anaconda3\\envs\\CARESpatial\\Lib\\site-packages\\esda\\getisord.py:450: RuntimeWarning: divide by zero encountered in divide\n",
      "  self.z_sim = (self.Gs - self.EG_sim) / self.seG_sim\n"
     ]
    },
    {
     "name": "stdout",
     "output_type": "stream",
     "text": [
      "Saved: date_2025-03-07_hotspots_combined.png | date_2025-03-07_hotspot_summary.csv\n",
      "2025-03-08: weights -> KNN (k=8) (n=10)\n",
      "Saved: date_2025-03-08_hotspots_combined.png | date_2025-03-08_hotspot_summary.csv\n",
      "2025-03-09: weights -> KNN (k=8) (n=10)\n",
      "Saved: date_2025-03-09_hotspots_combined.png | date_2025-03-09_hotspot_summary.csv\n",
      "2025-03-10: weights -> KNN (k=8) (n=10)\n",
      "Saved: date_2025-03-10_hotspots_combined.png | date_2025-03-10_hotspot_summary.csv\n",
      "2025-03-11: weights -> KNN (k=8) (n=10)\n",
      "Saved: date_2025-03-11_hotspots_combined.png | date_2025-03-11_hotspot_summary.csv\n",
      "2025-03-12: weights -> KNN (k=8) (n=10)\n",
      "Saved: date_2025-03-12_hotspots_combined.png | date_2025-03-12_hotspot_summary.csv\n",
      "2025-03-13: weights -> KNN (k=8) (n=10)\n",
      "Saved: date_2025-03-13_hotspots_combined.png | date_2025-03-13_hotspot_summary.csv\n",
      "2025-03-14: weights -> KNN (k=8) (n=10)\n",
      "Saved: date_2025-03-14_hotspots_combined.png | date_2025-03-14_hotspot_summary.csv\n",
      "2025-03-15: weights -> KNN (k=8) (n=10)\n",
      "Saved: date_2025-03-15_hotspots_combined.png | date_2025-03-15_hotspot_summary.csv\n",
      "2025-03-16: weights -> KNN (k=8) (n=10)\n",
      "Saved: date_2025-03-16_hotspots_combined.png | date_2025-03-16_hotspot_summary.csv\n",
      "2025-03-17: weights -> KNN (k=8) (n=10)\n",
      "Saved: date_2025-03-17_hotspots_combined.png | date_2025-03-17_hotspot_summary.csv\n",
      "2025-03-18: weights -> KNN (k=8) (n=10)\n",
      "Saved: date_2025-03-18_hotspots_combined.png | date_2025-03-18_hotspot_summary.csv\n",
      "2025-03-19: weights -> KNN (k=8) (n=10)\n",
      "Saved: date_2025-03-19_hotspots_combined.png | date_2025-03-19_hotspot_summary.csv\n",
      "2025-03-20: weights -> KNN (k=8) (n=10)\n",
      "Saved: date_2025-03-20_hotspots_combined.png | date_2025-03-20_hotspot_summary.csv\n",
      "2025-03-21: weights -> KNN (k=8) (n=10)\n",
      "Saved: date_2025-03-21_hotspots_combined.png | date_2025-03-21_hotspot_summary.csv\n",
      "2025-03-22: weights -> KNN (k=8) (n=10)\n",
      "Saved: date_2025-03-22_hotspots_combined.png | date_2025-03-22_hotspot_summary.csv\n",
      "2025-03-23: weights -> KNN (k=8) (n=9)\n"
     ]
    },
    {
     "name": "stderr",
     "output_type": "stream",
     "text": [
      "C:\\Users\\HP\\anaconda3\\envs\\CARESpatial\\Lib\\site-packages\\esda\\getisord.py:450: RuntimeWarning: invalid value encountered in divide\n",
      "  self.z_sim = (self.Gs - self.EG_sim) / self.seG_sim\n"
     ]
    },
    {
     "name": "stdout",
     "output_type": "stream",
     "text": [
      "Saved: date_2025-03-23_hotspots_combined.png | date_2025-03-23_hotspot_summary.csv\n",
      "2025-03-24: weights -> KNN (k=8) (n=9)\n",
      "Saved: date_2025-03-24_hotspots_combined.png | date_2025-03-24_hotspot_summary.csv\n",
      "2025-03-25: weights -> KNN (k=8) (n=9)\n"
     ]
    },
    {
     "name": "stderr",
     "output_type": "stream",
     "text": [
      "C:\\Users\\HP\\anaconda3\\envs\\CARESpatial\\Lib\\site-packages\\esda\\getisord.py:450: RuntimeWarning: invalid value encountered in divide\n",
      "  self.z_sim = (self.Gs - self.EG_sim) / self.seG_sim\n"
     ]
    },
    {
     "name": "stdout",
     "output_type": "stream",
     "text": [
      "Saved: date_2025-03-25_hotspots_combined.png | date_2025-03-25_hotspot_summary.csv\n",
      "2025-03-26: weights -> KNN (k=8) (n=9)\n"
     ]
    },
    {
     "name": "stderr",
     "output_type": "stream",
     "text": [
      "C:\\Users\\HP\\anaconda3\\envs\\CARESpatial\\Lib\\site-packages\\esda\\getisord.py:450: RuntimeWarning: invalid value encountered in divide\n",
      "  self.z_sim = (self.Gs - self.EG_sim) / self.seG_sim\n"
     ]
    },
    {
     "name": "stdout",
     "output_type": "stream",
     "text": [
      "Saved: date_2025-03-26_hotspots_combined.png | date_2025-03-26_hotspot_summary.csv\n",
      "2025-03-27: weights -> KNN (k=8) (n=9)\n",
      "Saved: date_2025-03-27_hotspots_combined.png | date_2025-03-27_hotspot_summary.csv\n",
      "2025-03-28: weights -> KNN (k=8) (n=9)\n",
      "Saved: date_2025-03-28_hotspots_combined.png | date_2025-03-28_hotspot_summary.csv\n",
      "2025-03-29: weights -> KNN (k=8) (n=9)\n"
     ]
    },
    {
     "name": "stderr",
     "output_type": "stream",
     "text": [
      "C:\\Users\\HP\\anaconda3\\envs\\CARESpatial\\Lib\\site-packages\\esda\\getisord.py:450: RuntimeWarning: invalid value encountered in divide\n",
      "  self.z_sim = (self.Gs - self.EG_sim) / self.seG_sim\n"
     ]
    },
    {
     "name": "stdout",
     "output_type": "stream",
     "text": [
      "Saved: date_2025-03-29_hotspots_combined.png | date_2025-03-29_hotspot_summary.csv\n",
      "2025-03-30: weights -> KNN (k=8) (n=9)\n"
     ]
    },
    {
     "name": "stderr",
     "output_type": "stream",
     "text": [
      "C:\\Users\\HP\\anaconda3\\envs\\CARESpatial\\Lib\\site-packages\\esda\\getisord.py:450: RuntimeWarning: invalid value encountered in divide\n",
      "  self.z_sim = (self.Gs - self.EG_sim) / self.seG_sim\n"
     ]
    },
    {
     "name": "stdout",
     "output_type": "stream",
     "text": [
      "Saved: date_2025-03-30_hotspots_combined.png | date_2025-03-30_hotspot_summary.csv\n",
      "2025-03-31: weights -> KNN (k=8) (n=9)\n"
     ]
    },
    {
     "name": "stderr",
     "output_type": "stream",
     "text": [
      "C:\\Users\\HP\\anaconda3\\envs\\CARESpatial\\Lib\\site-packages\\esda\\getisord.py:450: RuntimeWarning: invalid value encountered in divide\n",
      "  self.z_sim = (self.Gs - self.EG_sim) / self.seG_sim\n"
     ]
    },
    {
     "name": "stdout",
     "output_type": "stream",
     "text": [
      "Saved: date_2025-03-31_hotspots_combined.png | date_2025-03-31_hotspot_summary.csv\n",
      "2025-04-01: weights -> KNN (k=8) (n=9)\n"
     ]
    },
    {
     "name": "stderr",
     "output_type": "stream",
     "text": [
      "C:\\Users\\HP\\anaconda3\\envs\\CARESpatial\\Lib\\site-packages\\esda\\getisord.py:450: RuntimeWarning: invalid value encountered in divide\n",
      "  self.z_sim = (self.Gs - self.EG_sim) / self.seG_sim\n"
     ]
    },
    {
     "name": "stdout",
     "output_type": "stream",
     "text": [
      "Saved: date_2025-04-01_hotspots_combined.png | date_2025-04-01_hotspot_summary.csv\n",
      "2025-04-02: weights -> KNN (k=8) (n=9)\n",
      "Saved: date_2025-04-02_hotspots_combined.png | date_2025-04-02_hotspot_summary.csv\n",
      "2025-04-03: weights -> KNN (k=8) (n=9)\n",
      "Saved: date_2025-04-03_hotspots_combined.png | date_2025-04-03_hotspot_summary.csv\n",
      "2025-04-04: weights -> KNN (k=8) (n=9)\n",
      "Saved: date_2025-04-04_hotspots_combined.png | date_2025-04-04_hotspot_summary.csv\n",
      "2025-04-05: weights -> KNN (k=8) (n=9)\n"
     ]
    },
    {
     "name": "stderr",
     "output_type": "stream",
     "text": [
      "C:\\Users\\HP\\anaconda3\\envs\\CARESpatial\\Lib\\site-packages\\esda\\getisord.py:450: RuntimeWarning: divide by zero encountered in divide\n",
      "  self.z_sim = (self.Gs - self.EG_sim) / self.seG_sim\n",
      "C:\\Users\\HP\\anaconda3\\envs\\CARESpatial\\Lib\\site-packages\\esda\\getisord.py:450: RuntimeWarning: invalid value encountered in divide\n",
      "  self.z_sim = (self.Gs - self.EG_sim) / self.seG_sim\n"
     ]
    },
    {
     "name": "stdout",
     "output_type": "stream",
     "text": [
      "Saved: date_2025-04-05_hotspots_combined.png | date_2025-04-05_hotspot_summary.csv\n",
      "2025-04-06: weights -> KNN (k=8) (n=9)\n",
      "Saved: date_2025-04-06_hotspots_combined.png | date_2025-04-06_hotspot_summary.csv\n",
      "2025-04-07: weights -> KNN (k=8) (n=9)\n",
      "Saved: date_2025-04-07_hotspots_combined.png | date_2025-04-07_hotspot_summary.csv\n",
      "2025-04-08: weights -> KNN (k=8) (n=9)\n",
      "Saved: date_2025-04-08_hotspots_combined.png | date_2025-04-08_hotspot_summary.csv\n",
      "2025-04-09: weights -> KNN (k=8) (n=9)\n"
     ]
    },
    {
     "name": "stderr",
     "output_type": "stream",
     "text": [
      "C:\\Users\\HP\\anaconda3\\envs\\CARESpatial\\Lib\\site-packages\\esda\\getisord.py:450: RuntimeWarning: invalid value encountered in divide\n",
      "  self.z_sim = (self.Gs - self.EG_sim) / self.seG_sim\n"
     ]
    },
    {
     "name": "stdout",
     "output_type": "stream",
     "text": [
      "Saved: date_2025-04-09_hotspots_combined.png | date_2025-04-09_hotspot_summary.csv\n",
      "2025-04-10: weights -> KNN (k=8) (n=9)\n",
      "Saved: date_2025-04-10_hotspots_combined.png | date_2025-04-10_hotspot_summary.csv\n",
      "2025-04-11: weights -> KNN (k=8) (n=9)\n"
     ]
    },
    {
     "name": "stderr",
     "output_type": "stream",
     "text": [
      "C:\\Users\\HP\\anaconda3\\envs\\CARESpatial\\Lib\\site-packages\\esda\\getisord.py:450: RuntimeWarning: invalid value encountered in divide\n",
      "  self.z_sim = (self.Gs - self.EG_sim) / self.seG_sim\n"
     ]
    },
    {
     "name": "stdout",
     "output_type": "stream",
     "text": [
      "Saved: date_2025-04-11_hotspots_combined.png | date_2025-04-11_hotspot_summary.csv\n",
      "2025-04-12: weights -> KNN (k=8) (n=9)\n"
     ]
    },
    {
     "name": "stderr",
     "output_type": "stream",
     "text": [
      "C:\\Users\\HP\\anaconda3\\envs\\CARESpatial\\Lib\\site-packages\\esda\\getisord.py:450: RuntimeWarning: divide by zero encountered in divide\n",
      "  self.z_sim = (self.Gs - self.EG_sim) / self.seG_sim\n",
      "C:\\Users\\HP\\anaconda3\\envs\\CARESpatial\\Lib\\site-packages\\esda\\getisord.py:450: RuntimeWarning: invalid value encountered in divide\n",
      "  self.z_sim = (self.Gs - self.EG_sim) / self.seG_sim\n"
     ]
    },
    {
     "name": "stdout",
     "output_type": "stream",
     "text": [
      "Saved: date_2025-04-12_hotspots_combined.png | date_2025-04-12_hotspot_summary.csv\n",
      "2025-04-13: weights -> KNN (k=8) (n=9)\n"
     ]
    },
    {
     "name": "stderr",
     "output_type": "stream",
     "text": [
      "C:\\Users\\HP\\anaconda3\\envs\\CARESpatial\\Lib\\site-packages\\esda\\getisord.py:450: RuntimeWarning: divide by zero encountered in divide\n",
      "  self.z_sim = (self.Gs - self.EG_sim) / self.seG_sim\n",
      "C:\\Users\\HP\\anaconda3\\envs\\CARESpatial\\Lib\\site-packages\\esda\\getisord.py:450: RuntimeWarning: invalid value encountered in divide\n",
      "  self.z_sim = (self.Gs - self.EG_sim) / self.seG_sim\n"
     ]
    },
    {
     "name": "stdout",
     "output_type": "stream",
     "text": [
      "Saved: date_2025-04-13_hotspots_combined.png | date_2025-04-13_hotspot_summary.csv\n",
      "2025-04-14: weights -> KNN (k=8) (n=9)\n"
     ]
    },
    {
     "name": "stderr",
     "output_type": "stream",
     "text": [
      "C:\\Users\\HP\\anaconda3\\envs\\CARESpatial\\Lib\\site-packages\\esda\\getisord.py:450: RuntimeWarning: divide by zero encountered in divide\n",
      "  self.z_sim = (self.Gs - self.EG_sim) / self.seG_sim\n"
     ]
    },
    {
     "name": "stdout",
     "output_type": "stream",
     "text": [
      "Saved: date_2025-04-14_hotspots_combined.png | date_2025-04-14_hotspot_summary.csv\n",
      "2025-04-15: weights -> KNN (k=8) (n=9)\n"
     ]
    },
    {
     "name": "stderr",
     "output_type": "stream",
     "text": [
      "C:\\Users\\HP\\anaconda3\\envs\\CARESpatial\\Lib\\site-packages\\esda\\getisord.py:450: RuntimeWarning: invalid value encountered in divide\n",
      "  self.z_sim = (self.Gs - self.EG_sim) / self.seG_sim\n"
     ]
    },
    {
     "name": "stdout",
     "output_type": "stream",
     "text": [
      "Saved: date_2025-04-15_hotspots_combined.png | date_2025-04-15_hotspot_summary.csv\n",
      "2025-04-16: weights -> KNN (k=8) (n=9)\n"
     ]
    },
    {
     "name": "stderr",
     "output_type": "stream",
     "text": [
      "C:\\Users\\HP\\anaconda3\\envs\\CARESpatial\\Lib\\site-packages\\esda\\getisord.py:450: RuntimeWarning: invalid value encountered in divide\n",
      "  self.z_sim = (self.Gs - self.EG_sim) / self.seG_sim\n"
     ]
    },
    {
     "name": "stdout",
     "output_type": "stream",
     "text": [
      "Saved: date_2025-04-16_hotspots_combined.png | date_2025-04-16_hotspot_summary.csv\n",
      "2025-04-17: weights -> KNN (k=8) (n=9)\n"
     ]
    },
    {
     "name": "stderr",
     "output_type": "stream",
     "text": [
      "C:\\Users\\HP\\anaconda3\\envs\\CARESpatial\\Lib\\site-packages\\esda\\getisord.py:450: RuntimeWarning: invalid value encountered in divide\n",
      "  self.z_sim = (self.Gs - self.EG_sim) / self.seG_sim\n"
     ]
    },
    {
     "name": "stdout",
     "output_type": "stream",
     "text": [
      "Saved: date_2025-04-17_hotspots_combined.png | date_2025-04-17_hotspot_summary.csv\n",
      "2025-04-18: weights -> KNN (k=8) (n=9)\n"
     ]
    },
    {
     "name": "stderr",
     "output_type": "stream",
     "text": [
      "C:\\Users\\HP\\anaconda3\\envs\\CARESpatial\\Lib\\site-packages\\esda\\getisord.py:450: RuntimeWarning: invalid value encountered in divide\n",
      "  self.z_sim = (self.Gs - self.EG_sim) / self.seG_sim\n"
     ]
    },
    {
     "name": "stdout",
     "output_type": "stream",
     "text": [
      "Saved: date_2025-04-18_hotspots_combined.png | date_2025-04-18_hotspot_summary.csv\n",
      "2025-04-19: weights -> KNN (k=8) (n=9)\n",
      "Saved: date_2025-04-19_hotspots_combined.png | date_2025-04-19_hotspot_summary.csv\n",
      "2025-04-20: weights -> KNN (k=8) (n=9)\n"
     ]
    },
    {
     "name": "stderr",
     "output_type": "stream",
     "text": [
      "C:\\Users\\HP\\anaconda3\\envs\\CARESpatial\\Lib\\site-packages\\esda\\getisord.py:450: RuntimeWarning: invalid value encountered in divide\n",
      "  self.z_sim = (self.Gs - self.EG_sim) / self.seG_sim\n"
     ]
    },
    {
     "name": "stdout",
     "output_type": "stream",
     "text": [
      "Saved: date_2025-04-20_hotspots_combined.png | date_2025-04-20_hotspot_summary.csv\n",
      "2025-04-21: weights -> KNN (k=8) (n=9)\n"
     ]
    },
    {
     "name": "stderr",
     "output_type": "stream",
     "text": [
      "C:\\Users\\HP\\anaconda3\\envs\\CARESpatial\\Lib\\site-packages\\esda\\getisord.py:450: RuntimeWarning: invalid value encountered in divide\n",
      "  self.z_sim = (self.Gs - self.EG_sim) / self.seG_sim\n"
     ]
    },
    {
     "name": "stdout",
     "output_type": "stream",
     "text": [
      "Saved: date_2025-04-21_hotspots_combined.png | date_2025-04-21_hotspot_summary.csv\n",
      "2025-04-22: weights -> KNN (k=8) (n=9)\n"
     ]
    },
    {
     "name": "stderr",
     "output_type": "stream",
     "text": [
      "C:\\Users\\HP\\anaconda3\\envs\\CARESpatial\\Lib\\site-packages\\esda\\getisord.py:450: RuntimeWarning: invalid value encountered in divide\n",
      "  self.z_sim = (self.Gs - self.EG_sim) / self.seG_sim\n"
     ]
    },
    {
     "name": "stdout",
     "output_type": "stream",
     "text": [
      "Saved: date_2025-04-22_hotspots_combined.png | date_2025-04-22_hotspot_summary.csv\n",
      "2025-04-23: weights -> KNN (k=8) (n=9)\n",
      "Saved: date_2025-04-23_hotspots_combined.png | date_2025-04-23_hotspot_summary.csv\n",
      "2025-04-24: weights -> KNN (k=8) (n=9)\n"
     ]
    },
    {
     "name": "stderr",
     "output_type": "stream",
     "text": [
      "C:\\Users\\HP\\anaconda3\\envs\\CARESpatial\\Lib\\site-packages\\esda\\getisord.py:450: RuntimeWarning: divide by zero encountered in divide\n",
      "  self.z_sim = (self.Gs - self.EG_sim) / self.seG_sim\n"
     ]
    },
    {
     "name": "stdout",
     "output_type": "stream",
     "text": [
      "Saved: date_2025-04-24_hotspots_combined.png | date_2025-04-24_hotspot_summary.csv\n",
      "2025-04-25: weights -> KNN (k=8) (n=9)\n"
     ]
    },
    {
     "name": "stderr",
     "output_type": "stream",
     "text": [
      "C:\\Users\\HP\\anaconda3\\envs\\CARESpatial\\Lib\\site-packages\\esda\\getisord.py:450: RuntimeWarning: invalid value encountered in divide\n",
      "  self.z_sim = (self.Gs - self.EG_sim) / self.seG_sim\n"
     ]
    },
    {
     "name": "stdout",
     "output_type": "stream",
     "text": [
      "Saved: date_2025-04-25_hotspots_combined.png | date_2025-04-25_hotspot_summary.csv\n",
      "2025-04-26: weights -> KNN (k=8) (n=9)\n"
     ]
    },
    {
     "name": "stderr",
     "output_type": "stream",
     "text": [
      "C:\\Users\\HP\\anaconda3\\envs\\CARESpatial\\Lib\\site-packages\\esda\\getisord.py:450: RuntimeWarning: invalid value encountered in divide\n",
      "  self.z_sim = (self.Gs - self.EG_sim) / self.seG_sim\n"
     ]
    },
    {
     "name": "stdout",
     "output_type": "stream",
     "text": [
      "Saved: date_2025-04-26_hotspots_combined.png | date_2025-04-26_hotspot_summary.csv\n",
      "2025-04-27: weights -> KNN (k=8) (n=9)\n"
     ]
    },
    {
     "name": "stderr",
     "output_type": "stream",
     "text": [
      "C:\\Users\\HP\\anaconda3\\envs\\CARESpatial\\Lib\\site-packages\\esda\\getisord.py:450: RuntimeWarning: invalid value encountered in divide\n",
      "  self.z_sim = (self.Gs - self.EG_sim) / self.seG_sim\n"
     ]
    },
    {
     "name": "stdout",
     "output_type": "stream",
     "text": [
      "Saved: date_2025-04-27_hotspots_combined.png | date_2025-04-27_hotspot_summary.csv\n",
      "2025-04-28: weights -> KNN (k=8) (n=9)\n",
      "Saved: date_2025-04-28_hotspots_combined.png | date_2025-04-28_hotspot_summary.csv\n",
      "2025-04-29: weights -> KNN (k=8) (n=9)\n"
     ]
    },
    {
     "name": "stderr",
     "output_type": "stream",
     "text": [
      "C:\\Users\\HP\\anaconda3\\envs\\CARESpatial\\Lib\\site-packages\\esda\\getisord.py:450: RuntimeWarning: divide by zero encountered in divide\n",
      "  self.z_sim = (self.Gs - self.EG_sim) / self.seG_sim\n",
      "C:\\Users\\HP\\anaconda3\\envs\\CARESpatial\\Lib\\site-packages\\esda\\getisord.py:450: RuntimeWarning: invalid value encountered in divide\n",
      "  self.z_sim = (self.Gs - self.EG_sim) / self.seG_sim\n"
     ]
    },
    {
     "name": "stdout",
     "output_type": "stream",
     "text": [
      "Saved: date_2025-04-29_hotspots_combined.png | date_2025-04-29_hotspot_summary.csv\n",
      "2025-04-30: weights -> KNN (k=8) (n=12)\n",
      "Saved: date_2025-04-30_hotspots_combined.png | date_2025-04-30_hotspot_summary.csv\n",
      "2025-05-01: weights -> KNN (k=8) (n=12)\n",
      "Saved: date_2025-05-01_hotspots_combined.png | date_2025-05-01_hotspot_summary.csv\n",
      "2025-05-02: weights -> KNN (k=8) (n=12)\n",
      "Saved: date_2025-05-02_hotspots_combined.png | date_2025-05-02_hotspot_summary.csv\n",
      "2025-05-03: weights -> KNN (k=8) (n=12)\n",
      "Saved: date_2025-05-03_hotspots_combined.png | date_2025-05-03_hotspot_summary.csv\n",
      "2025-05-04: weights -> KNN (k=8) (n=12)\n",
      "Saved: date_2025-05-04_hotspots_combined.png | date_2025-05-04_hotspot_summary.csv\n",
      "2025-05-05: weights -> KNN (k=8) (n=10)\n",
      "Saved: date_2025-05-05_hotspots_combined.png | date_2025-05-05_hotspot_summary.csv\n",
      "2025-05-06: weights -> KNN (k=8) (n=10)\n",
      "Saved: date_2025-05-06_hotspots_combined.png | date_2025-05-06_hotspot_summary.csv\n",
      "2025-05-07: weights -> KNN (k=8) (n=10)\n",
      "Saved: date_2025-05-07_hotspots_combined.png | date_2025-05-07_hotspot_summary.csv\n",
      "2025-05-08: weights -> KNN (k=8) (n=10)\n",
      "Saved: date_2025-05-08_hotspots_combined.png | date_2025-05-08_hotspot_summary.csv\n",
      "2025-05-09: weights -> KNN (k=8) (n=10)\n",
      "Saved: date_2025-05-09_hotspots_combined.png | date_2025-05-09_hotspot_summary.csv\n",
      "2025-05-10: weights -> KNN (k=8) (n=10)\n",
      "Saved: date_2025-05-10_hotspots_combined.png | date_2025-05-10_hotspot_summary.csv\n",
      "2025-05-11: weights -> KNN (k=8) (n=11)\n",
      "Saved: date_2025-05-11_hotspots_combined.png | date_2025-05-11_hotspot_summary.csv\n",
      "2025-05-12: weights -> KNN (k=8) (n=11)\n",
      "Saved: date_2025-05-12_hotspots_combined.png | date_2025-05-12_hotspot_summary.csv\n",
      "2025-05-13: weights -> KNN (k=8) (n=11)\n",
      "Saved: date_2025-05-13_hotspots_combined.png | date_2025-05-13_hotspot_summary.csv\n",
      "2025-05-14: weights -> KNN (k=8) (n=11)\n",
      "Saved: date_2025-05-14_hotspots_combined.png | date_2025-05-14_hotspot_summary.csv\n",
      "2025-05-15: weights -> KNN (k=8) (n=11)\n",
      "Saved: date_2025-05-15_hotspots_combined.png | date_2025-05-15_hotspot_summary.csv\n",
      "2025-05-16: weights -> KNN (k=8) (n=11)\n",
      "Saved: date_2025-05-16_hotspots_combined.png | date_2025-05-16_hotspot_summary.csv\n",
      "2025-05-17: weights -> KNN (k=8) (n=11)\n",
      "Saved: date_2025-05-17_hotspots_combined.png | date_2025-05-17_hotspot_summary.csv\n",
      "2025-05-18: weights -> KNN (k=8) (n=10)\n",
      "Saved: date_2025-05-18_hotspots_combined.png | date_2025-05-18_hotspot_summary.csv\n",
      "2025-05-19: weights -> KNN (k=8) (n=10)\n",
      "Saved: date_2025-05-19_hotspots_combined.png | date_2025-05-19_hotspot_summary.csv\n",
      "2025-05-20: weights -> KNN (k=8) (n=10)\n",
      "Saved: date_2025-05-20_hotspots_combined.png | date_2025-05-20_hotspot_summary.csv\n",
      "2025-05-21: weights -> KNN (k=8) (n=10)\n",
      "Saved: date_2025-05-21_hotspots_combined.png | date_2025-05-21_hotspot_summary.csv\n",
      "2025-05-22: weights -> KNN (k=8) (n=10)\n",
      "Saved: date_2025-05-22_hotspots_combined.png | date_2025-05-22_hotspot_summary.csv\n",
      "2025-05-23: weights -> KNN (k=8) (n=10)\n",
      "Saved: date_2025-05-23_hotspots_combined.png | date_2025-05-23_hotspot_summary.csv\n",
      "2025-05-24: weights -> KNN (k=8) (n=10)\n",
      "Saved: date_2025-05-24_hotspots_combined.png | date_2025-05-24_hotspot_summary.csv\n",
      "2025-05-25: weights -> KNN (k=8) (n=10)\n",
      "Saved: date_2025-05-25_hotspots_combined.png | date_2025-05-25_hotspot_summary.csv\n",
      "2025-05-26: weights -> KNN (k=8) (n=10)\n",
      "Saved: date_2025-05-26_hotspots_combined.png | date_2025-05-26_hotspot_summary.csv\n",
      "2025-05-27: weights -> KNN (k=8) (n=10)\n",
      "Saved: date_2025-05-27_hotspots_combined.png | date_2025-05-27_hotspot_summary.csv\n",
      "2025-05-28: weights -> KNN (k=8) (n=10)\n",
      "Saved: date_2025-05-28_hotspots_combined.png | date_2025-05-28_hotspot_summary.csv\n",
      "2025-05-29: weights -> KNN (k=8) (n=10)\n",
      "Saved: date_2025-05-29_hotspots_combined.png | date_2025-05-29_hotspot_summary.csv\n",
      "2025-05-30: weights -> KNN (k=8) (n=10)\n",
      "Saved: date_2025-05-30_hotspots_combined.png | date_2025-05-30_hotspot_summary.csv\n",
      "2025-05-31: weights -> KNN (k=8) (n=10)\n",
      "Saved: date_2025-05-31_hotspots_combined.png | date_2025-05-31_hotspot_summary.csv\n",
      "2025-06-01: weights -> KNN (k=8) (n=9)\n",
      "Saved: date_2025-06-01_hotspots_combined.png | date_2025-06-01_hotspot_summary.csv\n",
      "2025-06-02: weights -> KNN (k=7) (n=8)\n"
     ]
    },
    {
     "name": "stderr",
     "output_type": "stream",
     "text": [
      "C:\\Users\\HP\\anaconda3\\envs\\CARESpatial\\Lib\\site-packages\\esda\\getisord.py:450: RuntimeWarning: invalid value encountered in divide\n",
      "  self.z_sim = (self.Gs - self.EG_sim) / self.seG_sim\n"
     ]
    },
    {
     "name": "stdout",
     "output_type": "stream",
     "text": [
      "Saved: date_2025-06-02_hotspots_combined.png | date_2025-06-02_hotspot_summary.csv\n",
      "2025-06-03: weights -> KNN (k=7) (n=8)\n",
      "Saved: date_2025-06-03_hotspots_combined.png | date_2025-06-03_hotspot_summary.csv\n",
      "2025-06-04: weights -> KNN (k=7) (n=8)\n",
      "Saved: date_2025-06-04_hotspots_combined.png | date_2025-06-04_hotspot_summary.csv\n",
      "2025-06-05: weights -> KNN (k=8) (n=9)\n"
     ]
    },
    {
     "name": "stderr",
     "output_type": "stream",
     "text": [
      "C:\\Users\\HP\\anaconda3\\envs\\CARESpatial\\Lib\\site-packages\\esda\\getisord.py:450: RuntimeWarning: invalid value encountered in divide\n",
      "  self.z_sim = (self.Gs - self.EG_sim) / self.seG_sim\n"
     ]
    },
    {
     "name": "stdout",
     "output_type": "stream",
     "text": [
      "Saved: date_2025-06-05_hotspots_combined.png | date_2025-06-05_hotspot_summary.csv\n",
      "2025-06-06: weights -> KNN (k=8) (n=9)\n"
     ]
    },
    {
     "name": "stderr",
     "output_type": "stream",
     "text": [
      "C:\\Users\\HP\\anaconda3\\envs\\CARESpatial\\Lib\\site-packages\\esda\\getisord.py:450: RuntimeWarning: divide by zero encountered in divide\n",
      "  self.z_sim = (self.Gs - self.EG_sim) / self.seG_sim\n"
     ]
    },
    {
     "name": "stdout",
     "output_type": "stream",
     "text": [
      "Saved: date_2025-06-06_hotspots_combined.png | date_2025-06-06_hotspot_summary.csv\n",
      "2025-06-07: weights -> KNN (k=8) (n=9)\n"
     ]
    },
    {
     "name": "stderr",
     "output_type": "stream",
     "text": [
      "C:\\Users\\HP\\anaconda3\\envs\\CARESpatial\\Lib\\site-packages\\esda\\getisord.py:450: RuntimeWarning: invalid value encountered in divide\n",
      "  self.z_sim = (self.Gs - self.EG_sim) / self.seG_sim\n"
     ]
    },
    {
     "name": "stdout",
     "output_type": "stream",
     "text": [
      "Saved: date_2025-06-07_hotspots_combined.png | date_2025-06-07_hotspot_summary.csv\n",
      "2025-06-08: weights -> KNN (k=8) (n=9)\n",
      "Saved: date_2025-06-08_hotspots_combined.png | date_2025-06-08_hotspot_summary.csv\n",
      "2025-06-09: weights -> KNN (k=8) (n=9)\n"
     ]
    },
    {
     "name": "stderr",
     "output_type": "stream",
     "text": [
      "C:\\Users\\HP\\anaconda3\\envs\\CARESpatial\\Lib\\site-packages\\esda\\getisord.py:450: RuntimeWarning: invalid value encountered in divide\n",
      "  self.z_sim = (self.Gs - self.EG_sim) / self.seG_sim\n"
     ]
    },
    {
     "name": "stdout",
     "output_type": "stream",
     "text": [
      "Saved: date_2025-06-09_hotspots_combined.png | date_2025-06-09_hotspot_summary.csv\n",
      "2025-06-10: weights -> KNN (k=8) (n=9)\n"
     ]
    },
    {
     "name": "stderr",
     "output_type": "stream",
     "text": [
      "C:\\Users\\HP\\anaconda3\\envs\\CARESpatial\\Lib\\site-packages\\esda\\getisord.py:450: RuntimeWarning: invalid value encountered in divide\n",
      "  self.z_sim = (self.Gs - self.EG_sim) / self.seG_sim\n"
     ]
    },
    {
     "name": "stdout",
     "output_type": "stream",
     "text": [
      "Saved: date_2025-06-10_hotspots_combined.png | date_2025-06-10_hotspot_summary.csv\n",
      "2025-06-11: weights -> KNN (k=8) (n=9)\n"
     ]
    },
    {
     "name": "stderr",
     "output_type": "stream",
     "text": [
      "C:\\Users\\HP\\anaconda3\\envs\\CARESpatial\\Lib\\site-packages\\esda\\getisord.py:450: RuntimeWarning: divide by zero encountered in divide\n",
      "  self.z_sim = (self.Gs - self.EG_sim) / self.seG_sim\n",
      "C:\\Users\\HP\\anaconda3\\envs\\CARESpatial\\Lib\\site-packages\\esda\\getisord.py:450: RuntimeWarning: invalid value encountered in divide\n",
      "  self.z_sim = (self.Gs - self.EG_sim) / self.seG_sim\n"
     ]
    },
    {
     "name": "stdout",
     "output_type": "stream",
     "text": [
      "Saved: date_2025-06-11_hotspots_combined.png | date_2025-06-11_hotspot_summary.csv\n",
      "2025-06-12: weights -> KNN (k=8) (n=10)\n",
      "Saved: date_2025-06-12_hotspots_combined.png | date_2025-06-12_hotspot_summary.csv\n",
      "2025-06-13: weights -> KNN (k=8) (n=10)\n",
      "Saved: date_2025-06-13_hotspots_combined.png | date_2025-06-13_hotspot_summary.csv\n",
      "2025-06-14: weights -> KNN (k=8) (n=10)\n",
      "Saved: date_2025-06-14_hotspots_combined.png | date_2025-06-14_hotspot_summary.csv\n",
      "2025-06-15: weights -> KNN (k=8) (n=10)\n",
      "Saved: date_2025-06-15_hotspots_combined.png | date_2025-06-15_hotspot_summary.csv\n",
      "2025-06-16: weights -> KNN (k=8) (n=10)\n",
      "Saved: date_2025-06-16_hotspots_combined.png | date_2025-06-16_hotspot_summary.csv\n",
      "2025-06-17: weights -> KNN (k=8) (n=10)\n",
      "Saved: date_2025-06-17_hotspots_combined.png | date_2025-06-17_hotspot_summary.csv\n",
      "2025-06-18: weights -> KNN (k=8) (n=9)\n"
     ]
    },
    {
     "name": "stderr",
     "output_type": "stream",
     "text": [
      "C:\\Users\\HP\\anaconda3\\envs\\CARESpatial\\Lib\\site-packages\\esda\\getisord.py:450: RuntimeWarning: invalid value encountered in divide\n",
      "  self.z_sim = (self.Gs - self.EG_sim) / self.seG_sim\n"
     ]
    },
    {
     "name": "stdout",
     "output_type": "stream",
     "text": [
      "Saved: date_2025-06-18_hotspots_combined.png | date_2025-06-18_hotspot_summary.csv\n",
      "2025-06-19: weights -> KNN (k=8) (n=9)\n"
     ]
    },
    {
     "name": "stderr",
     "output_type": "stream",
     "text": [
      "C:\\Users\\HP\\anaconda3\\envs\\CARESpatial\\Lib\\site-packages\\esda\\getisord.py:450: RuntimeWarning: invalid value encountered in divide\n",
      "  self.z_sim = (self.Gs - self.EG_sim) / self.seG_sim\n"
     ]
    },
    {
     "name": "stdout",
     "output_type": "stream",
     "text": [
      "Saved: date_2025-06-19_hotspots_combined.png | date_2025-06-19_hotspot_summary.csv\n",
      "2025-06-20: weights -> KNN (k=8) (n=9)\n"
     ]
    },
    {
     "name": "stderr",
     "output_type": "stream",
     "text": [
      "C:\\Users\\HP\\anaconda3\\envs\\CARESpatial\\Lib\\site-packages\\esda\\getisord.py:450: RuntimeWarning: invalid value encountered in divide\n",
      "  self.z_sim = (self.Gs - self.EG_sim) / self.seG_sim\n"
     ]
    },
    {
     "name": "stdout",
     "output_type": "stream",
     "text": [
      "Saved: date_2025-06-20_hotspots_combined.png | date_2025-06-20_hotspot_summary.csv\n",
      "2025-06-21: weights -> KNN (k=6) (n=7)\n",
      "Saved: date_2025-06-21_hotspots_combined.png | date_2025-06-21_hotspot_summary.csv\n",
      "2025-06-22: weights -> KNN (k=6) (n=7)\n",
      "Saved: date_2025-06-22_hotspots_combined.png | date_2025-06-22_hotspot_summary.csv\n",
      "2025-06-23: weights -> KNN (k=5) (n=6)\n"
     ]
    },
    {
     "name": "stderr",
     "output_type": "stream",
     "text": [
      "C:\\Users\\HP\\anaconda3\\envs\\CARESpatial\\Lib\\site-packages\\esda\\getisord.py:450: RuntimeWarning: invalid value encountered in divide\n",
      "  self.z_sim = (self.Gs - self.EG_sim) / self.seG_sim\n"
     ]
    },
    {
     "name": "stdout",
     "output_type": "stream",
     "text": [
      "Saved: date_2025-06-23_hotspots_combined.png | date_2025-06-23_hotspot_summary.csv\n",
      "2025-06-24: weights -> KNN (k=5) (n=6)\n",
      "Saved: date_2025-06-24_hotspots_combined.png | date_2025-06-24_hotspot_summary.csv\n",
      "2025-06-25: weights -> KNN (k=5) (n=6)\n",
      "Saved: date_2025-06-25_hotspots_combined.png | date_2025-06-25_hotspot_summary.csv\n",
      "2025-06-26: weights -> KNN (k=5) (n=6)\n"
     ]
    },
    {
     "name": "stderr",
     "output_type": "stream",
     "text": [
      "C:\\Users\\HP\\anaconda3\\envs\\CARESpatial\\Lib\\site-packages\\esda\\getisord.py:450: RuntimeWarning: invalid value encountered in divide\n",
      "  self.z_sim = (self.Gs - self.EG_sim) / self.seG_sim\n"
     ]
    },
    {
     "name": "stdout",
     "output_type": "stream",
     "text": [
      "Saved: date_2025-06-26_hotspots_combined.png | date_2025-06-26_hotspot_summary.csv\n",
      "2025-06-27: weights -> KNN (k=4) (n=5)\n"
     ]
    },
    {
     "name": "stderr",
     "output_type": "stream",
     "text": [
      "C:\\Users\\HP\\anaconda3\\envs\\CARESpatial\\Lib\\site-packages\\esda\\getisord.py:450: RuntimeWarning: invalid value encountered in divide\n",
      "  self.z_sim = (self.Gs - self.EG_sim) / self.seG_sim\n"
     ]
    },
    {
     "name": "stdout",
     "output_type": "stream",
     "text": [
      "Saved: date_2025-06-27_hotspots_combined.png | date_2025-06-27_hotspot_summary.csv\n",
      "2025-06-28: weights -> KNN (k=4) (n=5)\n"
     ]
    },
    {
     "name": "stderr",
     "output_type": "stream",
     "text": [
      "C:\\Users\\HP\\anaconda3\\envs\\CARESpatial\\Lib\\site-packages\\esda\\getisord.py:450: RuntimeWarning: divide by zero encountered in divide\n",
      "  self.z_sim = (self.Gs - self.EG_sim) / self.seG_sim\n",
      "C:\\Users\\HP\\anaconda3\\envs\\CARESpatial\\Lib\\site-packages\\esda\\getisord.py:450: RuntimeWarning: invalid value encountered in divide\n",
      "  self.z_sim = (self.Gs - self.EG_sim) / self.seG_sim\n"
     ]
    },
    {
     "name": "stdout",
     "output_type": "stream",
     "text": [
      "Saved: date_2025-06-28_hotspots_combined.png | date_2025-06-28_hotspot_summary.csv\n",
      "2025-06-29: weights -> KNN (k=4) (n=5)\n"
     ]
    },
    {
     "name": "stderr",
     "output_type": "stream",
     "text": [
      "C:\\Users\\HP\\anaconda3\\envs\\CARESpatial\\Lib\\site-packages\\esda\\moran.py:1351: RuntimeWarning: invalid value encountered in divide\n",
      "  self.z_sim = (self.Is - self.EI_sim) / self.seI_sim\n",
      "C:\\Users\\HP\\anaconda3\\envs\\CARESpatial\\Lib\\site-packages\\esda\\getisord.py:450: RuntimeWarning: invalid value encountered in divide\n",
      "  self.z_sim = (self.Gs - self.EG_sim) / self.seG_sim\n"
     ]
    },
    {
     "name": "stdout",
     "output_type": "stream",
     "text": [
      "Saved: date_2025-06-29_hotspots_combined.png | date_2025-06-29_hotspot_summary.csv\n",
      "2025-06-30: weights -> KNN (k=5) (n=6)\n",
      "Saved: date_2025-06-30_hotspots_combined.png | date_2025-06-30_hotspot_summary.csv\n",
      "2025-07-01: weights -> KNN (k=5) (n=6)\n"
     ]
    },
    {
     "name": "stderr",
     "output_type": "stream",
     "text": [
      "C:\\Users\\HP\\anaconda3\\envs\\CARESpatial\\Lib\\site-packages\\esda\\getisord.py:450: RuntimeWarning: divide by zero encountered in divide\n",
      "  self.z_sim = (self.Gs - self.EG_sim) / self.seG_sim\n"
     ]
    },
    {
     "name": "stdout",
     "output_type": "stream",
     "text": [
      "Saved: date_2025-07-01_hotspots_combined.png | date_2025-07-01_hotspot_summary.csv\n",
      "2025-07-02: weights -> KNN (k=6) (n=7)\n",
      "Saved: date_2025-07-02_hotspots_combined.png | date_2025-07-02_hotspot_summary.csv\n",
      "2025-07-03: weights -> KNN (k=6) (n=7)\n",
      "Saved: date_2025-07-03_hotspots_combined.png | date_2025-07-03_hotspot_summary.csv\n",
      "2025-07-04: weights -> KNN (k=6) (n=7)\n",
      "Saved: date_2025-07-04_hotspots_combined.png | date_2025-07-04_hotspot_summary.csv\n",
      "2025-07-05: weights -> KNN (k=6) (n=7)\n",
      "Saved: date_2025-07-05_hotspots_combined.png | date_2025-07-05_hotspot_summary.csv\n",
      "2025-07-06: weights -> KNN (k=6) (n=7)\n"
     ]
    },
    {
     "name": "stderr",
     "output_type": "stream",
     "text": [
      "C:\\Users\\HP\\anaconda3\\envs\\CARESpatial\\Lib\\site-packages\\esda\\moran.py:1351: RuntimeWarning: divide by zero encountered in divide\n",
      "  self.z_sim = (self.Is - self.EI_sim) / self.seI_sim\n"
     ]
    },
    {
     "name": "stdout",
     "output_type": "stream",
     "text": [
      "Saved: date_2025-07-06_hotspots_combined.png | date_2025-07-06_hotspot_summary.csv\n",
      "2025-07-07: weights -> KNN (k=6) (n=7)\n",
      "Saved: date_2025-07-07_hotspots_combined.png | date_2025-07-07_hotspot_summary.csv\n",
      "2025-07-08: weights -> KNN (k=7) (n=8)\n",
      "Saved: date_2025-07-08_hotspots_combined.png | date_2025-07-08_hotspot_summary.csv\n",
      "2025-07-09: weights -> KNN (k=7) (n=8)\n",
      "Saved: date_2025-07-09_hotspots_combined.png | date_2025-07-09_hotspot_summary.csv\n",
      "2025-07-10: weights -> KNN (k=7) (n=8)\n",
      "Saved: date_2025-07-10_hotspots_combined.png | date_2025-07-10_hotspot_summary.csv\n",
      "2025-07-11: weights -> KNN (k=6) (n=7)\n",
      "Saved: date_2025-07-11_hotspots_combined.png | date_2025-07-11_hotspot_summary.csv\n",
      "2025-07-12: weights -> KNN (k=6) (n=7)\n",
      "Saved: date_2025-07-12_hotspots_combined.png | date_2025-07-12_hotspot_summary.csv\n",
      "2025-07-13: weights -> KNN (k=6) (n=7)\n",
      "Saved: date_2025-07-13_hotspots_combined.png | date_2025-07-13_hotspot_summary.csv\n",
      "2025-07-14: weights -> KNN (k=6) (n=7)\n",
      "Saved: date_2025-07-14_hotspots_combined.png | date_2025-07-14_hotspot_summary.csv\n",
      "2025-07-15: weights -> KNN (k=6) (n=7)\n",
      "Saved: date_2025-07-15_hotspots_combined.png | date_2025-07-15_hotspot_summary.csv\n",
      "2025-07-16: weights -> KNN (k=6) (n=7)\n",
      "Saved: date_2025-07-16_hotspots_combined.png | date_2025-07-16_hotspot_summary.csv\n",
      "2025-07-17: weights -> KNN (k=6) (n=7)\n",
      "Saved: date_2025-07-17_hotspots_combined.png | date_2025-07-17_hotspot_summary.csv\n",
      "2025-07-18: weights -> KNN (k=6) (n=7)\n",
      "Saved: date_2025-07-18_hotspots_combined.png | date_2025-07-18_hotspot_summary.csv\n",
      "2025-07-19: weights -> KNN (k=7) (n=8)\n",
      "Saved: date_2025-07-19_hotspots_combined.png | date_2025-07-19_hotspot_summary.csv\n",
      "2025-07-20: weights -> KNN (k=5) (n=6)\n"
     ]
    },
    {
     "name": "stderr",
     "output_type": "stream",
     "text": [
      "C:\\Users\\HP\\anaconda3\\envs\\CARESpatial\\Lib\\site-packages\\esda\\moran.py:1351: RuntimeWarning: divide by zero encountered in divide\n",
      "  self.z_sim = (self.Is - self.EI_sim) / self.seI_sim\n",
      "C:\\Users\\HP\\anaconda3\\envs\\CARESpatial\\Lib\\site-packages\\esda\\getisord.py:450: RuntimeWarning: invalid value encountered in divide\n",
      "  self.z_sim = (self.Gs - self.EG_sim) / self.seG_sim\n"
     ]
    },
    {
     "name": "stdout",
     "output_type": "stream",
     "text": [
      "Saved: date_2025-07-20_hotspots_combined.png | date_2025-07-20_hotspot_summary.csv\n",
      "2025-07-21: weights -> KNN (k=5) (n=6)\n",
      "Saved: date_2025-07-21_hotspots_combined.png | date_2025-07-21_hotspot_summary.csv\n",
      "2025-07-22: weights -> KNN (k=4) (n=5)\n"
     ]
    },
    {
     "name": "stderr",
     "output_type": "stream",
     "text": [
      "C:\\Users\\HP\\anaconda3\\envs\\CARESpatial\\Lib\\site-packages\\esda\\getisord.py:450: RuntimeWarning: invalid value encountered in divide\n",
      "  self.z_sim = (self.Gs - self.EG_sim) / self.seG_sim\n"
     ]
    },
    {
     "name": "stdout",
     "output_type": "stream",
     "text": [
      "Saved: date_2025-07-22_hotspots_combined.png | date_2025-07-22_hotspot_summary.csv\n",
      "2025-07-23: weights -> KNN (k=4) (n=5)\n"
     ]
    },
    {
     "name": "stderr",
     "output_type": "stream",
     "text": [
      "C:\\Users\\HP\\anaconda3\\envs\\CARESpatial\\Lib\\site-packages\\esda\\moran.py:1351: RuntimeWarning: invalid value encountered in divide\n",
      "  self.z_sim = (self.Is - self.EI_sim) / self.seI_sim\n",
      "C:\\Users\\HP\\anaconda3\\envs\\CARESpatial\\Lib\\site-packages\\esda\\getisord.py:450: RuntimeWarning: invalid value encountered in divide\n",
      "  self.z_sim = (self.Gs - self.EG_sim) / self.seG_sim\n"
     ]
    },
    {
     "name": "stdout",
     "output_type": "stream",
     "text": [
      "Saved: date_2025-07-23_hotspots_combined.png | date_2025-07-23_hotspot_summary.csv\n",
      "2025-07-24: weights -> KNN (k=4) (n=5)\n"
     ]
    },
    {
     "name": "stderr",
     "output_type": "stream",
     "text": [
      "C:\\Users\\HP\\anaconda3\\envs\\CARESpatial\\Lib\\site-packages\\esda\\getisord.py:450: RuntimeWarning: invalid value encountered in divide\n",
      "  self.z_sim = (self.Gs - self.EG_sim) / self.seG_sim\n"
     ]
    },
    {
     "name": "stdout",
     "output_type": "stream",
     "text": [
      "Saved: date_2025-07-24_hotspots_combined.png | date_2025-07-24_hotspot_summary.csv\n",
      "2025-07-25: weights -> KNN (k=5) (n=6)\n"
     ]
    },
    {
     "name": "stderr",
     "output_type": "stream",
     "text": [
      "C:\\Users\\HP\\anaconda3\\envs\\CARESpatial\\Lib\\site-packages\\esda\\getisord.py:450: RuntimeWarning: invalid value encountered in divide\n",
      "  self.z_sim = (self.Gs - self.EG_sim) / self.seG_sim\n"
     ]
    },
    {
     "name": "stdout",
     "output_type": "stream",
     "text": [
      "Saved: date_2025-07-25_hotspots_combined.png | date_2025-07-25_hotspot_summary.csv\n",
      "2025-07-26: weights -> KNN (k=6) (n=7)\n",
      "Saved: date_2025-07-26_hotspots_combined.png | date_2025-07-26_hotspot_summary.csv\n",
      "2025-07-27: weights -> KNN (k=6) (n=7)\n",
      "Saved: date_2025-07-27_hotspots_combined.png | date_2025-07-27_hotspot_summary.csv\n",
      "2025-07-28: weights -> KNN (k=6) (n=7)\n",
      "Saved: date_2025-07-28_hotspots_combined.png | date_2025-07-28_hotspot_summary.csv\n",
      "2025-07-29: weights -> KNN (k=6) (n=7)\n",
      "Saved: date_2025-07-29_hotspots_combined.png | date_2025-07-29_hotspot_summary.csv\n",
      "2025-07-30: weights -> KNN (k=6) (n=7)\n",
      "Saved: date_2025-07-30_hotspots_combined.png | date_2025-07-30_hotspot_summary.csv\n",
      "2025-07-31: weights -> KNN (k=6) (n=7)\n",
      "Saved: date_2025-07-31_hotspots_combined.png | date_2025-07-31_hotspot_summary.csv\n"
     ]
    }
   ],
   "source": [
    "# 06_Hotspots_LISA_GiStar_withRoads.py\n",
    "# Per day:\n",
    "#   (A) Local Moran's I (LISA) cluster map (HH, LL, HL, LH; p<0.05)\n",
    "#   (B) Getis–Ord Gi* z-score map (diverging; blue=cold, gray=neutral, red=hot; circles=significant)\n",
    "# Adds Pasig roads overlay (primary/secondary/tertiary).\n",
    "# Writes a per-day CSV summarizing LISA cluster counts.\n",
    "# Robust spatial weights: KNN with k-backoff, fallback to DistanceBand.\n",
    "# Includes a TEST RUN mode that processes one file, saves *_TEST.png, then optionally proceeds.\n",
    "\n",
    "import os, glob, re, csv, warnings, sys\n",
    "import numpy as np\n",
    "import geopandas as gpd\n",
    "import matplotlib.pyplot as plt\n",
    "import matplotlib as mpl\n",
    "import matplotlib.patches as mpatches\n",
    "from matplotlib.lines import Line2D\n",
    "\n",
    "from shapely.geometry import Point\n",
    "from fiona.env import Env\n",
    "\n",
    "# spatial stats\n",
    "from libpysal.weights import KNN, DistanceBand, fill_diagonal\n",
    "from esda import Moran_Local, G_Local\n",
    "from scipy.spatial import cKDTree\n",
    "\n",
    "# colormaps\n",
    "from matplotlib.colors import LinearSegmentedColormap, TwoSlopeNorm\n",
    "\n",
    "# -------- Paths (UPDATE IF NEEDED)\n",
    "DATA_DIR    = r\"C:\\Users\\HP\\Desktop\\SpatialCARE\\Daily\\DailyGPKG\"\n",
    "PASIG_SHP   = r\"C:\\Users\\HP\\Desktop\\SpatialCARE\\Pasig\\Pasig.shp\"\n",
    "ROADS_SHP   = r\"C:\\Users\\HP\\Desktop\\SpatialCARE\\Pasig\\PasigRN.shp\"\n",
    "OUT_F_DIR   = r\"C:\\Users\\HP\\Desktop\\SpatialCARE\\Outputs\\figures\\hotspots\"\n",
    "OUT_CSV_DIR = r\"C:\\Users\\HP\\Desktop\\SpatialCARE\\Outputs\\hotspot_summaries\"\n",
    "os.makedirs(OUT_F_DIR, exist_ok=True)\n",
    "os.makedirs(OUT_CSV_DIR, exist_ok=True)\n",
    "\n",
    "# -------- CRS & figure\n",
    "WGS84  = \"+proj=longlat +datum=WGS84 +no_defs\"\n",
    "UTM51  = \"+proj=utm +zone=51 +datum=WGS84 +units=m +no_defs\"\n",
    "FIG_SIZE, FIG_DPI = (12, 5.2), 150\n",
    "\n",
    "# -------- Analysis settings\n",
    "KNN_K = 8                 # desired neighbors\n",
    "PERMUTATIONS = 999        # for p-values\n",
    "ALPHA = 0.05              # significance threshold\n",
    "VALUE_COL_CANDS = (\"pm25\",\"pm_25\",\"pm2_5\",\"pm2.5\")\n",
    "\n",
    "# ---- Exclusion (for analysis ONLY – optional)\n",
    "EXCLUDE_FLAGGED = True\n",
    "FLAG_MICRO_SITES = {\n",
    "    \"san antonio barangay hall\",\n",
    "    \"san antonio brgy hall\",\n",
    "    \"san antonio brgy. hall\",\n",
    "}\n",
    "def _norm_name(s):\n",
    "    return re.sub(r\"\\s+\", \" \", str(s).strip().lower())\n",
    "\n",
    "# -------- Road styling (neutral grayscale, transparent)\n",
    "STYLE_MAP = {\n",
    "    \"primary\":   {\"linewidth\": 2.0, \"color\": \"#555555\", \"alpha\": 0.40},\n",
    "    \"secondary\": {\"linewidth\": 1.6, \"color\": \"#888888\", \"alpha\": 0.30},\n",
    "    \"tertiary\":  {\"linewidth\": 1.2, \"color\": \"#bbbbbb\", \"alpha\": 0.30},\n",
    "}\n",
    "ROAD_HANDLES = [\n",
    "    Line2D([0],[0], color=\"#555555\", lw=2.0, label=\"Primary\"),\n",
    "    Line2D([0],[0], color=\"#888888\", lw=1.6, label=\"Secondary\"),\n",
    "    Line2D([0],[0], color=\"#bbbbbb\", lw=1.2, label=\"Tertiary\"),\n",
    "]\n",
    "\n",
    "# -------- Cluster colors (categorical; keep as is)\n",
    "CLUSTER_COLORS = {\n",
    "    \"High–High\"      : \"#e41a1c\",  # strong red\n",
    "    \"Low–Low\"        : \"#377eb8\",  # strong blue\n",
    "    \"High–Low\"       : \"#984ea3\",  # purple\n",
    "    \"Low–High\"       : \"#4daf4a\",  # green\n",
    "    \"Not significant\": \"#bdbdbd\",  # light gray\n",
    "}\n",
    "\n",
    "# -------- Gi* colormap (blue → gray → red)\n",
    "CMAP_BGR = LinearSegmentedColormap.from_list(\n",
    "    \"blue-gray-red\", [\"#2166ac\", \"#EDC9AF\", \"#b2182b\"]\n",
    ")\n",
    "\n",
    "# -------- Helpers\n",
    "def pick_val_col(cols):\n",
    "    for c in cols:\n",
    "        if str(c).lower() in VALUE_COL_CANDS: return c\n",
    "    return None\n",
    "\n",
    "def dedupe_xy(gdf_utm, val_col):\n",
    "    t = gdf_utm[[val_col,\"geometry\"]].copy()\n",
    "    t[\"x\"] = t.geometry.x; t[\"y\"] = t.geometry.y\n",
    "    t = (t.groupby([\"x\",\"y\"], as_index=False)[val_col].mean())\n",
    "    return gpd.GeoDataFrame(t, geometry=gpd.points_from_xy(t[\"x\"], t[\"y\"], crs=gdf_utm.crs))\n",
    "\n",
    "def lisa_cluster_labels(q, sig_mask):\n",
    "    # esda.q: 1=HH, 2=LH, 3=LL, 4=HL\n",
    "    out = np.full(sig_mask.shape[0], \"\", dtype=object)\n",
    "    out[(q==1)&sig_mask] = \"High–High\"\n",
    "    out[(q==3)&sig_mask] = \"Low–Low\"\n",
    "    out[(q==2)&sig_mask] = \"Low–High\"\n",
    "    out[(q==4)&sig_mask] = \"High–Low\"\n",
    "    out[~sig_mask] = \"Not significant\"\n",
    "    return out\n",
    "\n",
    "def make_weights(xy: np.ndarray, k_desired: int):\n",
    "    \"\"\"\n",
    "    Robust spatial weights:\n",
    "      1) Try KNN with k=min(k_desired, n-1), backing off if needed\n",
    "      2) Fallback: DistanceBand using the (k_desired+1)-th neighbor distance as threshold\n",
    "    Returns (W, info_str)\n",
    "    \"\"\"\n",
    "    n = int(xy.shape[0])\n",
    "    if n < 3:\n",
    "        raise ValueError(\"Not enough points to build spatial weights (n < 3).\")\n",
    "\n",
    "    # Cap k to n-1 (KNN excludes self)\n",
    "    k_eff = max(1, min(k_desired, n - 1))\n",
    "\n",
    "    # Try decreasing k to find a valid KNN\n",
    "    for k in range(k_eff, 1, -1):\n",
    "        try:\n",
    "            # ids as list (avoid NumPy-array ambiguity in libpysal)\n",
    "            w = KNN.from_array(xy, k=k, ids=list(range(n)))\n",
    "            w.transform = \"r\"\n",
    "            return w, f\"KNN (k={k})\"\n",
    "        except Exception:\n",
    "            continue  # back off and try smaller k\n",
    "\n",
    "    # --- Fallback: DistanceBand ---\n",
    "    kk = max(2, min(n - 1, k_desired + 1))\n",
    "    dists = cKDTree(xy).query(xy, k=kk)[0]  # includes self at [:,0]==0\n",
    "    thr = float(np.nanmax(dists[:, -1]))    # farthest of non-self neighbors\n",
    "    w = DistanceBand(xy, threshold=thr, binary=False, silence_warnings=True)\n",
    "    w.transform = \"r\"\n",
    "    return w, f\"DistanceBand (thr≈{thr:.1f} m)\"\n",
    "\n",
    "# -------- Load boundary & roads\n",
    "with Env(SHAPE_RESTORE_SHX=\"YES\"):\n",
    "    pasig = gpd.read_file(PASIG_SHP)\n",
    "if pasig.crs is None:\n",
    "    pasig = pasig.set_crs(WGS84)\n",
    "pasig_utm = pasig.to_crs(UTM51)\n",
    "\n",
    "with Env(SHAPE_RESTORE_SHX=\"YES\"):\n",
    "    roads = gpd.read_file(ROADS_SHP)\n",
    "if roads.crs is None:\n",
    "    roads = roads.set_crs(WGS84)\n",
    "roads_utm = roads.to_crs(UTM51)\n",
    "\n",
    "# pick best road attribute\n",
    "road_col = None\n",
    "for c in (\"highway\",\"fclass\",\"type\"):\n",
    "    if c in roads_utm.columns:\n",
    "        road_col = c; break\n",
    "if road_col is None:\n",
    "    raise SystemExit(\"No road class column ('highway'/'fclass'/'type') in roads.\")\n",
    "roads_utm[road_col] = roads_utm[road_col].astype(str).str.lower()\n",
    "roads_sel = roads_utm[roads_utm[road_col].isin({\"primary\",\"secondary\",\"tertiary\"})].copy()\n",
    "try:\n",
    "    roads_clip = gpd.clip(roads_sel, pasig_utm)\n",
    "except Exception:\n",
    "    roads_clip = gpd.overlay(roads_sel, pasig_utm[[\"geometry\"]], how=\"intersection\")\n",
    "\n",
    "# -------- Core processing (single file)\n",
    "def process_one_file(fpath: str, test_suffix: bool=False):\n",
    "    base = os.path.splitext(os.path.basename(fpath))[0]\n",
    "    day  = base.replace(\"date_\", \"\")\n",
    "\n",
    "    g = gpd.read_file(fpath)\n",
    "    if g.crs is None:\n",
    "        g = g.set_crs(WGS84)\n",
    "\n",
    "    # ensure geometry exists\n",
    "    if (\"geometry\" not in g) or g.geometry.is_empty.all():\n",
    "        lon = next((c for c in g.columns if str(c).lower() in (\"longitude\",\"lon\",\"x\")), None)\n",
    "        lat = next((c for c in g.columns if str(c).lower() in (\"latitude\",\"lat\",\"y\")), None)\n",
    "        if lon and lat:\n",
    "            g = g.set_geometry(gpd.points_from_xy(g[lon], g[lat], crs=g.crs))\n",
    "        else:\n",
    "            print(f\"Skip (no geometry): {base}\")\n",
    "            return\n",
    "\n",
    "    val_col = pick_val_col(g.columns)\n",
    "    if val_col is None:\n",
    "        print(f\"Skip (no PM2.5 col): {base}\")\n",
    "        return\n",
    "\n",
    "    # Project & clean\n",
    "    pts = g.to_crs(UTM51)\n",
    "    pts = dedupe_xy(pts, val_col)\n",
    "    pts[val_col] = np.clip(pts[val_col].astype(float), 0, None)\n",
    "\n",
    "    # Optional exclusion (by station name)\n",
    "    if EXCLUDE_FLAGGED:\n",
    "        st_col = next((c for c in (\"stations\",\"station\",\"Station\",\"STATION\") if c in g.columns), None)\n",
    "        if st_col is not None:\n",
    "            gg = g.to_crs(UTM51)[[st_col,\"geometry\"]].copy()\n",
    "            gg[\"station_norm\"] = gg[st_col].astype(str).map(_norm_name)\n",
    "            pts = gpd.sjoin(pts, gg[[\"station_norm\",\"geometry\"]], how=\"left\", predicate=\"intersects\")\n",
    "            pts[\"is_flagged\"] = pts[\"station_norm\"].isin(FLAG_MICRO_SITES)\n",
    "        else:\n",
    "            pts[\"is_flagged\"] = False\n",
    "        pts_use = pts[~pts[\"is_flagged\"]].copy()\n",
    "    else:\n",
    "        pts_use = pts.copy()\n",
    "\n",
    "    n = pts_use.shape[0]\n",
    "    if n < 4:\n",
    "        print(f\"Skip (n<4): {base}\")\n",
    "        return\n",
    "\n",
    "    # Coordinates & attribute vector\n",
    "    xy = np.c_[pts_use.geometry.x.values, pts_use.geometry.y.values]\n",
    "    z  = pts_use[val_col].values\n",
    "\n",
    "    # Robust spatial weights\n",
    "    w, w_info = make_weights(xy, KNN_K)\n",
    "    print(f\"{day}: weights -> {w_info} (n={n})\")\n",
    "\n",
    "    # Local Moran's I (LISA)\n",
    "    lisa = Moran_Local(z, w, permutations=PERMUTATIONS)\n",
    "    sig = (lisa.p_sim < ALPHA)\n",
    "    clusters = lisa_cluster_labels(lisa.q, sig)\n",
    "\n",
    "    # Getis–Ord Gi* (set diagonal explicitly, suppress warning)\n",
    "    fill_diagonal(w, 0.5)\n",
    "    with warnings.catch_warnings():\n",
    "        warnings.filterwarnings(\"ignore\", message=r\"Gi\\* requested, but .*\")\n",
    "        gi = G_Local(z, w, star=None, permutations=PERMUTATIONS)\n",
    "\n",
    "    gi_z  = gi.Zs\n",
    "    gi_sig = (gi.p_sim < ALPHA)\n",
    "\n",
    "    # ---- Write summary CSV\n",
    "    out_csv = os.path.join(OUT_CSV_DIR, f\"{base}_hotspot_summary.csv\")\n",
    "    uniq, counts = np.unique(clusters, return_counts=True)\n",
    "    with open(out_csv, \"w\", newline=\"\", encoding=\"utf-8\") as fcsv:\n",
    "        wtr = csv.writer(fcsv)\n",
    "        wtr.writerow([\"day\",\"n_points\",\"cluster\",\"count\"])\n",
    "        for u,cnt in zip(uniq, counts):\n",
    "            wtr.writerow([day, int(n), u, int(cnt)])\n",
    "\n",
    "    # ---- Plot: two subplots + roads\n",
    "    fig, (axA, axB) = plt.subplots(1, 2, figsize=FIG_SIZE, dpi=FIG_DPI)\n",
    "\n",
    "    # (A) LISA cluster map (categorical colors)\n",
    "    for label, color in CLUSTER_COLORS.items():\n",
    "        subset = pts_use[clusters == label]\n",
    "        if not subset.empty:\n",
    "            subset.plot(ax=axA, color=color, markersize=55,\n",
    "                        edgecolor=\"white\", linewidth=0.7, zorder=3, label=label)\n",
    "    pasig_utm.boundary.plot(ax=axA, color=\"black\", linewidth=0.8, zorder=4)\n",
    "    for klass, style in STYLE_MAP.items():\n",
    "        sub = roads_clip.loc[roads_clip[road_col] == klass]\n",
    "        if not sub.empty: sub.plot(ax=axA, **style, zorder=2)  # beneath points\n",
    "    axA.set_title(f\"(A) Local Moran's I — {day}\\nClusters at p < {ALPHA}\")\n",
    "    axA.set_axis_off()\n",
    "\n",
    "    lisa_handles = [mpatches.Patch(color=CLUSTER_COLORS[k], label=k)\n",
    "                    for k in [\"High–High\",\"Low–Low\",\"High–Low\",\"Low–High\",\"Not significant\"]]\n",
    "\n",
    "    # (B) Getis–Ord Gi* z-scores (blue-gray-red, significance outlined)\n",
    "    vabs = max(2.0, np.nanmax(np.abs(gi_z)))  # symmetric range\n",
    "    norm = TwoSlopeNorm(vcenter=0.0, vmin=-vabs, vmax=vabs)\n",
    "\n",
    "    # base points (keep fill by z-score)\n",
    "    axB.scatter(\n",
    "        pts_use.geometry.x, pts_use.geometry.y,\n",
    "        c=gi_z, cmap=CMAP_BGR, norm=norm,\n",
    "        s=40, edgecolor=\"white\", linewidth=0.4, alpha=0.9, zorder=3\n",
    "    )\n",
    "\n",
    "    # significant points: same fill + black outline\n",
    "    if np.any(gi_sig):\n",
    "        sig_pts = pts_use.loc[gi_sig]\n",
    "        axB.scatter(\n",
    "            sig_pts.geometry.x, sig_pts.geometry.y,\n",
    "            c=gi_z[gi_sig], cmap=CMAP_BGR, norm=norm,\n",
    "            s=120, edgecolor=\"black\", linewidth=1.2, zorder=4,\n",
    "            label=\"Significant (p<0.05)\"\n",
    "        )\n",
    "\n",
    "    pasig_utm.boundary.plot(ax=axB, color=\"black\", linewidth=0.8, zorder=2)\n",
    "    for klass, style in STYLE_MAP.items():\n",
    "        sub = roads_clip.loc[roads_clip[road_col] == klass]\n",
    "        if not sub.empty: sub.plot(ax=axB, **style, zorder=1)  # beneath points\n",
    "    axB.set_title(f\"(B) Getis–Ord Gi* — {day}\\nz-scores (hot + / cold −)\")\n",
    "    axB.set_axis_off()\n",
    "\n",
    "    cb = plt.colorbar(mpl.cm.ScalarMappable(norm=norm, cmap=CMAP_BGR), ax=axB, shrink=0.8)\n",
    "    cb.set_label(\"Gi* z-score\")\n",
    "\n",
    "    # Bottom legend (roads + LISA classes)\n",
    "    all_handles = ROAD_HANDLES + lisa_handles\n",
    "    fig.legend(handles=all_handles, loc=\"upper center\",\n",
    "               bbox_to_anchor=(0.5, 0.20), ncol=3, frameon=True, fontsize=8, title=\"Legend\")\n",
    "    plt.subplots_adjust(bottom=0.30, wspace=0.06)\n",
    "\n",
    "    # output\n",
    "    suffix = \"_TEST\" if test_suffix else \"_hotspots_combined\"\n",
    "    out_png = os.path.join(OUT_F_DIR, f\"{base}{suffix}.png\")\n",
    "    fig.savefig(out_png, bbox_inches=\"tight\")\n",
    "    plt.close(fig)\n",
    "\n",
    "    print(\"Saved:\", os.path.basename(out_png), \"|\", os.path.basename(out_csv))\n",
    "\n",
    "# -------- Iterate files with TEST mode\n",
    "TEST_MODE       = True   # True: process only first file then ask to proceed\n",
    "ASK_TO_PROCEED  = True   # ask y/n after test; only used if TEST_MODE=True\n",
    "\n",
    "files = sorted(glob.glob(os.path.join(DATA_DIR, \"date_2025-*.gpkg\")))\n",
    "if not files:\n",
    "    raise SystemExit(\"No daily GPKG files found.\")\n",
    "\n",
    "if TEST_MODE:\n",
    "    test_file = files[0]\n",
    "    print(f\"\\n*** TEST RUN on {os.path.basename(test_file)} ***\\n\")\n",
    "    process_one_file(test_file, test_suffix=True)\n",
    "\n",
    "    if ASK_TO_PROCEED:\n",
    "        try:\n",
    "            resp = input(\"\\nCheck the TEST figure. Proceed with full run? (yes/no): \").strip().lower()\n",
    "        except EOFError:\n",
    "            print(\"\\nNo input available. Exiting after test run.\")\n",
    "            sys.exit(0)\n",
    "        if resp not in (\"y\",\"yes\"):\n",
    "            print(\"Okay, stopping after test run.\")\n",
    "            sys.exit(0)\n",
    "\n",
    "    # proceed with remaining files\n",
    "    print(\"\\nProceeding with full run...\\n\")\n",
    "    for f in files:\n",
    "        if f == test_file:  # skip already processed test file\n",
    "            continue\n",
    "        process_one_file(f, test_suffix=False)\n",
    "else:\n",
    "    # full run directly\n",
    "    for f in files:\n",
    "        process_one_file(f, test_suffix=False)"
   ]
  },
  {
   "cell_type": "code",
   "execution_count": 13,
   "id": "cabe1cd5-bcc8-4682-a384-325399c60db1",
   "metadata": {},
   "outputs": [
    {
     "name": "stdout",
     "output_type": "stream",
     "text": [
      "GIF saved at: C:\\Users\\HP\\Desktop\\SpatialCARE\\Outputs\\figures\\hotspots\\Hotspots_LISA_GiStar.gif\n"
     ]
    }
   ],
   "source": [
    "import os\n",
    "import glob\n",
    "from PIL import Image\n",
    "\n",
    "# Folder where your PNG files are located\n",
    "img_dir = r\"C:\\Users\\HP\\Desktop\\SpatialCARE\\Outputs\\figures\\hotspots\"\n",
    "\n",
    "# Get all .png files sorted by filename (important for order)\n",
    "png_files = sorted(glob.glob(os.path.join(img_dir, \"*.png\")))\n",
    "\n",
    "# Load images\n",
    "frames = [Image.open(f) for f in png_files]\n",
    "\n",
    "# Output file\n",
    "gif_path = os.path.join(img_dir, \"Hotspots_LISA_GiStar.gif\")\n",
    "\n",
    "# Save as GIF\n",
    "frames[0].save(\n",
    "    gif_path,\n",
    "    save_all=True,\n",
    "    append_images=frames[1:],\n",
    "    duration=500,   # duration per frame in milliseconds (adjust speed here)\n",
    "    loop=0          # 0 means infinite loop\n",
    ")\n",
    "\n",
    "print(f\"GIF saved at: {gif_path}\")\n"
   ]
  }
 ],
 "metadata": {
  "kernelspec": {
   "display_name": "Python (CARESpatial)",
   "language": "python",
   "name": "carespatial"
  },
  "language_info": {
   "codemirror_mode": {
    "name": "ipython",
    "version": 3
   },
   "file_extension": ".py",
   "mimetype": "text/x-python",
   "name": "python",
   "nbconvert_exporter": "python",
   "pygments_lexer": "ipython3",
   "version": "3.11.13"
  }
 },
 "nbformat": 4,
 "nbformat_minor": 5
}
