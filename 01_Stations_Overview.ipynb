{
 "cells": [
  {
   "cell_type": "code",
   "execution_count": 2,
   "id": "a4f64f64-cc5b-4c3a-a0ce-6d5e1eb7d51a",
   "metadata": {},
   "outputs": [
    {
     "name": "stdout",
     "output_type": "stream",
     "text": [
      "Saved: C:\\Users\\krish\\Desktop\\SpatialCARE\\Outputs\\figures\\stations_overview.png\n"
     ]
    }
   ],
   "source": [
    "# --- Imports & setup\n",
    "import os, glob, warnings\n",
    "import numpy as np\n",
    "import geopandas as gpd\n",
    "import matplotlib.pyplot as plt\n",
    "import matplotlib as mpl\n",
    "from shapely.ops import unary_union\n",
    "from fiona.env import Env\n",
    "import pandas as pd\n",
    "\n",
    "DATA_DIR  = r\"C:\\Users\\krish\\Desktop\\SpatialCARE\\DailyGPKG\"\n",
    "PASIG_SHP = r\"C:\\Users\\krish\\Desktop\\PhD Class\\Shapefile\\MM\\Pasig\\Pasig.shp\"\n",
    "OUT_DIR   = r\"C:\\Users\\krish\\Desktop\\SpatialCARE\\Outputs\\figures\"\n",
    "os.makedirs(OUT_DIR, exist_ok=True)\n",
    "\n",
    "WGS84  = \"+proj=longlat +datum=WGS84 +no_defs\"\n",
    "UTM51  = \"+proj=utm +zone=51 +datum=WGS84 +units=m +no_defs\"\n",
    "FIG_SIZE, FIG_DPI = (7,7), 150\n",
    "\n",
    "def dedupe_points(gdf):\n",
    "    t = gdf.to_crs(UTM51).copy()\n",
    "    t[\"x\"] = t.geometry.x; t[\"y\"] = t.geometry.y\n",
    "    return t.drop_duplicates(subset=[\"x\",\"y\"]).to_crs(UTM51)\n",
    "\n",
    "# --- Read Pasig\n",
    "with Env(SHAPE_RESTORE_SHX=\"YES\"):\n",
    "    pasig = gpd.read_file(PASIG_SHP)\n",
    "if pasig.crs is None: pasig = pasig.set_crs(WGS84)\n",
    "pasig_utm = pasig.to_crs(UTM51)\n",
    "\n",
    "# --- Collect stations from all daily files\n",
    "files = sorted(glob.glob(os.path.join(DATA_DIR, \"date_2025-*.gpkg\")))\n",
    "if not files: raise SystemExit(\"No daily GPKG files found.\")\n",
    "\n",
    "pts = []\n",
    "for f in files:\n",
    "    g = gpd.read_file(f)\n",
    "    if g.crs is None: g = g.set_crs(WGS84)\n",
    "    if \"geometry\" not in g or g.geometry.is_empty.all():\n",
    "        # build geometry from lon/lat if needed\n",
    "        lon = [c for c in g.columns if str(c).lower() in (\"longitude\",\"lon\",\"x\")]\n",
    "        lat = [c for c in g.columns if str(c).lower() in (\"latitude\",\"lat\",\"y\")]\n",
    "        if lon and lat:\n",
    "            g = g.set_geometry(gpd.points_from_xy(g[lon[0]], g[lat[0]], crs=g.crs))\n",
    "    pts.append(g)\n",
    "\n",
    "all_pts = gpd.GeoDataFrame(pd.concat(pts, ignore_index=True), geometry=\"geometry\", crs=pts[0].crs)\n",
    "stations = dedupe_points(all_pts)\n",
    "\n",
    "# --- Plot\n",
    "fig, ax = plt.subplots(figsize=FIG_SIZE, dpi=FIG_DPI)\n",
    "pasig_utm.boundary.plot(ax=ax, color=\"black\", linewidth=0.8)\n",
    "stations.plot(ax=ax, color=\"#d62728\", markersize=40, edgecolor=\"white\", linewidth=0.7)\n",
    "ax.set_title(\"Pasig — Air Quality Stations (unique locations)\")\n",
    "ax.set_axis_off()\n",
    "out = os.path.join(OUT_DIR, \"stations_overview.png\")\n",
    "plt.tight_layout(); plt.savefig(out, bbox_inches=\"tight\"); plt.close(fig)\n",
    "print(\"Saved:\", out)\n"
   ]
  }
 ],
 "metadata": {
  "kernelspec": {
   "display_name": "CAREAQI",
   "language": "python",
   "name": "careaqi"
  },
  "language_info": {
   "codemirror_mode": {
    "name": "ipython",
    "version": 3
   },
   "file_extension": ".py",
   "mimetype": "text/x-python",
   "name": "python",
   "nbconvert_exporter": "python",
   "pygments_lexer": "ipython3",
   "version": "3.11.11"
  }
 },
 "nbformat": 4,
 "nbformat_minor": 5
}
