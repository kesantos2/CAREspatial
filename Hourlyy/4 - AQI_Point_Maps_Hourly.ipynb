{
 "cells": [
  {
   "cell_type": "code",
   "execution_count": 17,
   "id": "1035e73b-5fc9-4989-b0a7-71b2a180d16c",
   "metadata": {},
   "outputs": [
    {
     "name": "stderr",
     "output_type": "stream",
     "text": [
      "Rendering 2025-01: 100%|██████████| 744/744 [02:56<00:00,  4.21it/s]\n"
     ]
    },
    {
     "name": "stdout",
     "output_type": "stream",
     "text": [
      "✅ Saved C:\\Users\\krish\\Desktop\\SpatialCARE\\Hourly\\Outputs\\GIFs\\2025_01.gif\n"
     ]
    },
    {
     "name": "stderr",
     "output_type": "stream",
     "text": [
      "Rendering 2025-02: 100%|██████████| 658/658 [03:12<00:00,  3.41it/s]\n"
     ]
    },
    {
     "name": "stdout",
     "output_type": "stream",
     "text": [
      "✅ Saved C:\\Users\\krish\\Desktop\\SpatialCARE\\Hourly\\Outputs\\GIFs\\2025_02.gif\n"
     ]
    },
    {
     "name": "stderr",
     "output_type": "stream",
     "text": [
      "Rendering 2025-03: 100%|██████████| 744/744 [04:09<00:00,  2.98it/s]\n"
     ]
    },
    {
     "name": "stdout",
     "output_type": "stream",
     "text": [
      "✅ Saved C:\\Users\\krish\\Desktop\\SpatialCARE\\Hourly\\Outputs\\GIFs\\2025_03.gif\n"
     ]
    }
   ],
   "source": [
    "import pandas as pd\n",
    "import matplotlib.pyplot as plt\n",
    "import matplotlib.patches as mpatches\n",
    "import imageio.v2 as imageio   # use v2 to silence warning\n",
    "from io import BytesIO\n",
    "from tqdm import tqdm\n",
    "import geopandas as gpd\n",
    "import os\n",
    "\n",
    "# ==============================\n",
    "# User settings\n",
    "# ==============================\n",
    "CSV_FILE   = r\"C:\\Users\\krish\\Desktop\\SpatialCARE\\Hourly\\pasig_hourly_corrected.csv\"\n",
    "PASIG_SHP  = r\"C:\\Users\\krish\\Desktop\\PhD Class\\Shapefile\\MM\\Pasig\\Pasig.shp\"\n",
    "OUT_DIR    = r\"C:\\Users\\krish\\Desktop\\SpatialCARE\\Hourly\\Outputs\\GIFs\"\n",
    "os.makedirs(OUT_DIR, exist_ok=True)\n",
    "\n",
    "qa_mode = False          # True = show first 5 frames only, False = render GIF\n",
    "months  = [1,2,3]           # choose which months to run (e.g. [1,2,3])\n",
    "\n",
    "# AQI color bins (US EPA style)\n",
    "aqi_bins   = [0, 12, 35.4, 55.4, 150.4, 250.4, 500]\n",
    "aqi_colors = [\"#00E400\", \"#FFFF00\", \"#FF7E00\", \"#FF0000\", \"#99004C\", \"#7E0023\"]\n",
    "aqi_labels = [\n",
    "    \"Good (0-12)\",\n",
    "    \"Moderate (12.1-35.4)\",\n",
    "    \"Unhealthy for Sensitive (35.5-55.4)\",\n",
    "    \"Unhealthy (55.5-150.4)\",\n",
    "    \"Very Unhealthy (150.5-250.4)\",\n",
    "    \"Hazardous (250.5+)\"\n",
    "]\n",
    "\n",
    "# ==============================\n",
    "# Load data\n",
    "# ==============================\n",
    "df = pd.read_csv(CSV_FILE)\n",
    "\n",
    "# combine Date + Time into datetime index\n",
    "df[\"datetime\"] = pd.to_datetime(df[\"Date\"] + \" \" + df[\"Time\"])\n",
    "df = df.set_index(\"datetime\").sort_index()\n",
    "\n",
    "# load Pasig shapefile\n",
    "pasig = gpd.read_file(PASIG_SHP)\n",
    "pasig_bounds = pasig.total_bounds  # xmin, ymin, xmax, ymax\n",
    "\n",
    "# ==============================\n",
    "# Helper: pick AQI color\n",
    "# ==============================\n",
    "def get_aqi_color(pm25):\n",
    "    for i, limit in enumerate(aqi_bins[1:]):\n",
    "        if pm25 <= limit:\n",
    "            return aqi_colors[i]\n",
    "    return aqi_colors[-1]\n",
    "\n",
    "# ==============================\n",
    "# Loop over months\n",
    "# ==============================\n",
    "for month in months:\n",
    "    group = df[(df.index.year == 2025) & (df.index.month == month)]\n",
    "    if group.empty:\n",
    "        print(f\"⚠️ No data found for 2025-{month:02d}\")\n",
    "        continue\n",
    "\n",
    "    if qa_mode:\n",
    "        print(f\"📅 QA Preview for 2025-{month:02d} (first 5 frames)...\")\n",
    "        iter_group = group.groupby(group.index)\n",
    "    else:\n",
    "        out_gif = os.path.join(OUT_DIR, f\"2025_{month:02d}.gif\")\n",
    "        writer = imageio.get_writer(out_gif, mode=\"I\", duration=0.5)\n",
    "        iter_group = tqdm(group.groupby(group.index), desc=f\"Rendering 2025-{month:02d}\")\n",
    "\n",
    "    for i, (t, g) in enumerate(iter_group):\n",
    "        if qa_mode and i >= 5:   # only preview first 5 frames\n",
    "            break\n",
    "\n",
    "        fig, ax = plt.subplots(figsize=(6, 6))\n",
    "\n",
    "        # Pasig boundary (hairline style)\n",
    "        pasig.boundary.plot(ax=ax, edgecolor=\"black\", linewidth=0.3, zorder=1)\n",
    "\n",
    "        # plot all stations at this timestamp\n",
    "        for _, row in g.iterrows():\n",
    "            ax.scatter(row[\"longitude\"], row[\"latitude\"],\n",
    "                       s=120, c=get_aqi_color(row[\"pm25\"]),\n",
    "                       edgecolor=\"k\", linewidth=0.5, zorder=2)\n",
    "            ax.text(row[\"longitude\"]+0.002, row[\"latitude\"]+0.002,\n",
    "                    f\"{row['pm25']:.1f}\", fontsize=6, zorder=3)\n",
    "\n",
    "        ax.set_title(f\"PM2.5 AQI - {t.strftime('%Y-%m-%d %H:%M')}\", fontsize=12)\n",
    "        ax.set_xlim(pasig_bounds[0]-0.01, pasig_bounds[2]+0.01)\n",
    "        ax.set_ylim(pasig_bounds[1]-0.01, pasig_bounds[3]+0.01)\n",
    "\n",
    "        # legend patches\n",
    "        patches = [mpatches.Patch(color=aqi_colors[j], label=aqi_labels[j])\n",
    "                   for j in range(len(aqi_labels))]\n",
    "        ax.legend(handles=patches, loc=\"lower left\", fontsize=6, frameon=True)\n",
    "\n",
    "        if qa_mode:\n",
    "            plt.show()\n",
    "        else:\n",
    "            buf = BytesIO()\n",
    "            plt.savefig(buf, format=\"png\", dpi=80, bbox_inches=\"tight\")\n",
    "            buf.seek(0)\n",
    "            writer.append_data(imageio.imread(buf))\n",
    "        plt.close(fig)\n",
    "\n",
    "    if not qa_mode:\n",
    "        writer.close()\n",
    "        print(f\"✅ Saved {out_gif}\")"
   ]
  },
  {
   "cell_type": "code",
   "execution_count": null,
   "id": "1a764868-7c50-476c-b2a1-b6dabf1f0ad7",
   "metadata": {},
   "outputs": [],
   "source": []
  }
 ],
 "metadata": {
  "kernelspec": {
   "display_name": "CAREAQI",
   "language": "python",
   "name": "careaqi"
  },
  "language_info": {
   "codemirror_mode": {
    "name": "ipython",
    "version": 3
   },
   "file_extension": ".py",
   "mimetype": "text/x-python",
   "name": "python",
   "nbconvert_exporter": "python",
   "pygments_lexer": "ipython3",
   "version": "3.11.11"
  }
 },
 "nbformat": 4,
 "nbformat_minor": 5
}
