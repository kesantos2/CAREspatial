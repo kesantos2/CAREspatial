{
 "cells": [
  {
   "cell_type": "code",
   "execution_count": 7,
   "id": "6c1a8cef-2665-4167-9efd-57a832130831",
   "metadata": {},
   "outputs": [
    {
     "name": "stdout",
     "output_type": "stream",
     "text": [
      "✅ AQI values added and saved to: C:\\Users\\krish\\Desktop\\SpatialCARE\\Hourly\\pasig_hourly_aqi.csv\n",
      "         Date     Time                  location_name  latitude  longitude  \\\n",
      "0  2025-01-01  0:00:00  Country Lodge, Pasig [EMBNCR]     14.57     121.07   \n",
      "1  2025-01-01  1:00:00  Country Lodge, Pasig [EMBNCR]     14.57     121.07   \n",
      "2  2025-01-01  2:00:00  Country Lodge, Pasig [EMBNCR]     14.57     121.07   \n",
      "3  2025-01-01  3:00:00  Country Lodge, Pasig [EMBNCR]     14.57     121.07   \n",
      "4  2025-01-01  4:00:00  Country Lodge, Pasig [EMBNCR]     14.57     121.07   \n",
      "\n",
      "     pm25            datetime    AQI  \n",
      "0  273.04 2025-01-01 00:00:00  319.0  \n",
      "1  314.04 2025-01-01 01:00:00  351.7  \n",
      "2  138.58 2025-01-01 02:00:00  193.9  \n",
      "3  103.87 2025-01-01 03:00:00  176.0  \n",
      "4  108.87 2025-01-01 04:00:00  178.6  \n"
     ]
    }
   ],
   "source": [
    "import pandas as pd\n",
    "import numpy as np\n",
    "\n",
    "# ==============================\n",
    "# User Settings\n",
    "# ==============================\n",
    "CSV_FILE   = r\"C:\\Users\\krish\\Desktop\\SpatialCARE\\Hourly\\pasig_hourly_corrected.csv\"\n",
    "OUT_FILE   = r\"C:\\Users\\krish\\Desktop\\SpatialCARE\\Hourly\\pasig_hourly_aqi.csv\"\n",
    "\n",
    "# ==============================\n",
    "# Load dataset\n",
    "# ==============================\n",
    "df = pd.read_csv(CSV_FILE)\n",
    "\n",
    "# Combine Date + Time → datetime\n",
    "if \"Date\" in df.columns and \"Time\" in df.columns:\n",
    "    df[\"datetime\"] = pd.to_datetime(df[\"Date\"] + \" \" + df[\"Time\"])\n",
    "else:\n",
    "    raise ValueError(\"❌ Expected 'Date' and 'Time' columns in CSV.\")\n",
    "\n",
    "# ==============================\n",
    "# PM2.5 → AQI conversion\n",
    "# ==============================\n",
    "def pm25_to_aqi(pm25):\n",
    "    breakpoints = [\n",
    "        (0.0, 12.0, 0, 50),\n",
    "        (12.1, 35.4, 51, 100),\n",
    "        (35.5, 55.4, 101, 150),\n",
    "        (55.5, 150.4, 151, 200),\n",
    "        (150.5, 250.4, 201, 300),\n",
    "        (250.5, 500.0, 301, 500),\n",
    "    ]\n",
    "    for (clow, chigh, alow, ahigh) in breakpoints:\n",
    "        if clow <= pm25 <= chigh:\n",
    "            return round((ahigh - alow) / (chigh - clow) * (pm25 - clow) + alow, 1)\n",
    "    return np.nan\n",
    "\n",
    "# Apply conversion\n",
    "df[\"AQI\"] = df[\"pm25\"].apply(pm25_to_aqi)\n",
    "\n",
    "# ==============================\n",
    "# Save new dataset\n",
    "# ==============================\n",
    "df.to_csv(OUT_FILE, index=False)\n",
    "print(f\"✅ AQI values added and saved to: {OUT_FILE}\")\n",
    "print(df.head())"
   ]
  },
  {
   "cell_type": "code",
   "execution_count": null,
   "id": "1f3a5dfc-6e14-4d5f-acc9-1df22f03b945",
   "metadata": {},
   "outputs": [],
   "source": []
  }
 ],
 "metadata": {
  "kernelspec": {
   "display_name": "CAREAQI",
   "language": "python",
   "name": "careaqi"
  },
  "language_info": {
   "codemirror_mode": {
    "name": "ipython",
    "version": 3
   },
   "file_extension": ".py",
   "mimetype": "text/x-python",
   "name": "python",
   "nbconvert_exporter": "python",
   "pygments_lexer": "ipython3",
   "version": "3.11.11"
  }
 },
 "nbformat": 4,
 "nbformat_minor": 5
}
