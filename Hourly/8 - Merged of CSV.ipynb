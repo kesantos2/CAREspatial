{
 "cells": [
  {
   "cell_type": "code",
   "execution_count": 2,
   "id": "48b8731a-7632-4a68-9815-783d6e82dedf",
   "metadata": {},
   "outputs": [
    {
     "name": "stderr",
     "output_type": "stream",
     "text": [
      "C:\\Users\\krish\\AppData\\Local\\Temp\\ipykernel_1612\\693648694.py:16: FutureWarning: 'H' is deprecated and will be removed in a future version, please use 'h' instead.\n",
      "  df_pm25_3h = df_pm25[numeric_cols].resample(\"3H\").mean()\n"
     ]
    },
    {
     "name": "stdout",
     "output_type": "stream",
     "text": [
      "✅ Merged dataset saved as pm25_wind_3hourly.csv\n",
      "             datetime  latitude  longitude        pm25 wind_dir  wind_speed  \\\n",
      "0 2025-01-01 00:00:00     14.57     121.07  241.886667      CAL         0.0   \n",
      "1 2025-01-01 03:00:00     14.57     121.07  129.690000      CAL         0.0   \n",
      "2 2025-01-01 06:00:00     14.57     121.07  182.980000       SW         3.6   \n",
      "3 2025-01-01 09:00:00     14.57     121.07  134.586667      SSE         7.2   \n",
      "4 2025-01-01 12:00:00     14.57     121.07   73.083333      CAL         0.0   \n",
      "\n",
      "   wind_dir_deg  \n",
      "0           NaN  \n",
      "1           NaN  \n",
      "2         225.0  \n",
      "3         157.5  \n",
      "4           NaN  \n"
     ]
    }
   ],
   "source": [
    "import pandas as pd\n",
    "\n",
    "# ==============================\n",
    "# Load PM2.5 hourly dataset\n",
    "# ==============================\n",
    "pm25_csv = r\"C:\\Users\\krish\\Desktop\\SpatialCARE\\Hourly\\pasig_hourly_corrected.csv\"\n",
    "df_pm25 = pd.read_csv(pm25_csv)\n",
    "\n",
    "# Combine date + time into datetime\n",
    "df_pm25[\"datetime\"] = pd.to_datetime(df_pm25[\"Date\"] + \" \" + df_pm25[\"Time\"])\n",
    "df_pm25 = df_pm25.drop(columns=[\"Date\", \"Time\"])\n",
    "df_pm25 = df_pm25.set_index(\"datetime\").sort_index()\n",
    "\n",
    "# Keep only numeric cols for resample\n",
    "numeric_cols = df_pm25.select_dtypes(include=\"number\").columns\n",
    "df_pm25_3h = df_pm25[numeric_cols].resample(\"3H\").mean()\n",
    "\n",
    "# Reset index back\n",
    "df_pm25_3h = df_pm25_3h.reset_index()\n",
    "\n",
    "# ==============================\n",
    "# Load wind dataset (already saved from Ogimet)\n",
    "# ==============================\n",
    "wind_csv = \"winds_science_garden_JanJul2025.csv\"\n",
    "df_wind = pd.read_csv(wind_csv, parse_dates=[\"datetime\"])\n",
    "\n",
    "# ==============================\n",
    "# Merge on datetime (inner join = only matching times)\n",
    "# ==============================\n",
    "merged = pd.merge(df_pm25_3h, df_wind, on=\"datetime\", how=\"inner\")\n",
    "\n",
    "# Save merged dataset\n",
    "merged.to_csv(\"pm25_wind_3hourly.csv\", index=False)\n",
    "\n",
    "print(\"✅ Merged dataset saved as pm25_wind_3hourly.csv\")\n",
    "print(merged.head())"
   ]
  }
 ],
 "metadata": {
  "kernelspec": {
   "display_name": "CAREAQI",
   "language": "python",
   "name": "careaqi"
  },
  "language_info": {
   "codemirror_mode": {
    "name": "ipython",
    "version": 3
   },
   "file_extension": ".py",
   "mimetype": "text/x-python",
   "name": "python",
   "nbconvert_exporter": "python",
   "pygments_lexer": "ipython3",
   "version": "3.11.11"
  }
 },
 "nbformat": 4,
 "nbformat_minor": 5
}
