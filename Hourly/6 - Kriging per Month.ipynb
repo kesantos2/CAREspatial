{
 "cells": [
  {
   "cell_type": "code",
   "execution_count": 21,
   "id": "151688b8-4187-4d94-a5b2-ca36b10aa80f",
   "metadata": {},
   "outputs": [
    {
     "name": "stderr",
     "output_type": "stream",
     "text": [
      "Rendering 2025-05:   1%|          | 4/739 [00:01<04:01,  3.04it/s]"
     ]
    },
    {
     "name": "stdout",
     "output_type": "stream",
     "text": [
      "⚠️ Kriging failed at 2025-05-01 04:00:00: singular matrix\n"
     ]
    },
    {
     "name": "stderr",
     "output_type": "stream",
     "text": [
      "Rendering 2025-05:  10%|█         | 75/739 [00:26<03:16,  3.39it/s]"
     ]
    },
    {
     "name": "stdout",
     "output_type": "stream",
     "text": [
      "⚠️ Kriging failed at 2025-05-04 03:00:00: singular matrix\n"
     ]
    },
    {
     "name": "stderr",
     "output_type": "stream",
     "text": [
      "Rendering 2025-05:  34%|███▎      | 249/739 [01:29<02:55,  2.79it/s]"
     ]
    },
    {
     "name": "stdout",
     "output_type": "stream",
     "text": [
      "⚠️ Kriging failed at 2025-05-11 09:00:00: singular matrix\n"
     ]
    },
    {
     "name": "stderr",
     "output_type": "stream",
     "text": [
      "Rendering 2025-05:  37%|███▋      | 276/739 [01:39<02:49,  2.73it/s]"
     ]
    },
    {
     "name": "stdout",
     "output_type": "stream",
     "text": [
      "⚠️ Kriging failed at 2025-05-12 12:00:00: singular matrix\n"
     ]
    },
    {
     "name": "stderr",
     "output_type": "stream",
     "text": [
      "Rendering 2025-05:  44%|████▎     | 322/739 [01:54<02:26,  2.84it/s]"
     ]
    },
    {
     "name": "stdout",
     "output_type": "stream",
     "text": [
      "⚠️ Kriging failed at 2025-05-14 10:00:00: singular matrix\n"
     ]
    },
    {
     "name": "stderr",
     "output_type": "stream",
     "text": [
      "Rendering 2025-05:  44%|████▍     | 325/739 [01:54<02:01,  3.40it/s]"
     ]
    },
    {
     "name": "stdout",
     "output_type": "stream",
     "text": [
      "⚠️ Kriging failed at 2025-05-14 13:00:00: singular matrix\n"
     ]
    },
    {
     "name": "stderr",
     "output_type": "stream",
     "text": [
      "Rendering 2025-05:  47%|████▋     | 344/739 [02:00<02:00,  3.27it/s]"
     ]
    },
    {
     "name": "stdout",
     "output_type": "stream",
     "text": [
      "⚠️ Kriging failed at 2025-05-15 08:00:00: singular matrix\n"
     ]
    },
    {
     "name": "stderr",
     "output_type": "stream",
     "text": [
      "Rendering 2025-05:  51%|█████     | 374/739 [02:09<02:05,  2.91it/s]"
     ]
    },
    {
     "name": "stdout",
     "output_type": "stream",
     "text": [
      "⚠️ Kriging failed at 2025-05-16 14:00:00: singular matrix\n"
     ]
    },
    {
     "name": "stderr",
     "output_type": "stream",
     "text": [
      "Rendering 2025-05:  53%|█████▎    | 391/739 [02:15<02:01,  2.86it/s]"
     ]
    },
    {
     "name": "stdout",
     "output_type": "stream",
     "text": [
      "⚠️ Kriging failed at 2025-05-17 07:00:00: singular matrix\n"
     ]
    },
    {
     "name": "stderr",
     "output_type": "stream",
     "text": [
      "Rendering 2025-05:  55%|█████▌    | 408/739 [02:20<01:42,  3.23it/s]"
     ]
    },
    {
     "name": "stdout",
     "output_type": "stream",
     "text": [
      "⚠️ Kriging failed at 2025-05-18 00:00:00: singular matrix\n"
     ]
    },
    {
     "name": "stderr",
     "output_type": "stream",
     "text": [
      "Rendering 2025-05:  79%|███████▉  | 586/739 [03:16<00:48,  3.13it/s]"
     ]
    },
    {
     "name": "stdout",
     "output_type": "stream",
     "text": [
      "⚠️ Kriging failed at 2025-05-25 10:00:00: singular matrix\n"
     ]
    },
    {
     "name": "stderr",
     "output_type": "stream",
     "text": [
      "Rendering 2025-05:  82%|████████▏ | 607/739 [03:23<00:41,  3.20it/s]"
     ]
    },
    {
     "name": "stdout",
     "output_type": "stream",
     "text": [
      "⚠️ Kriging failed at 2025-05-26 07:00:00: singular matrix\n"
     ]
    },
    {
     "name": "stderr",
     "output_type": "stream",
     "text": [
      "Rendering 2025-05: 100%|██████████| 739/739 [04:06<00:00,  3.00it/s]\n"
     ]
    },
    {
     "name": "stdout",
     "output_type": "stream",
     "text": [
      "✅ Saved C:\\Users\\krish\\Desktop\\SpatialCARE\\Hourly\\Outputs\\GIFs\\2025_05_AQI.gif\n"
     ]
    },
    {
     "name": "stderr",
     "output_type": "stream",
     "text": [
      "Rendering 2025-06:  12%|█▏        | 83/706 [00:28<03:44,  2.77it/s]"
     ]
    },
    {
     "name": "stdout",
     "output_type": "stream",
     "text": [
      "⚠️ Kriging failed at 2025-06-05 01:00:00: singular matrix\n"
     ]
    },
    {
     "name": "stderr",
     "output_type": "stream",
     "text": [
      "Rendering 2025-06:  30%|███       | 214/706 [01:10<02:26,  3.35it/s]"
     ]
    },
    {
     "name": "stdout",
     "output_type": "stream",
     "text": [
      "⚠️ Kriging failed at 2025-06-10 12:00:00: singular matrix\n"
     ]
    },
    {
     "name": "stderr",
     "output_type": "stream",
     "text": [
      "Rendering 2025-06:  49%|████▉     | 345/706 [01:52<01:53,  3.18it/s]"
     ]
    },
    {
     "name": "stdout",
     "output_type": "stream",
     "text": [
      "⚠️ Kriging failed at 2025-06-15 23:00:00: singular matrix\n"
     ]
    },
    {
     "name": "stderr",
     "output_type": "stream",
     "text": [
      "Rendering 2025-06:  56%|█████▌    | 395/706 [02:08<01:35,  3.25it/s]"
     ]
    },
    {
     "name": "stdout",
     "output_type": "stream",
     "text": [
      "⚠️ Kriging failed at 2025-06-18 01:00:00: singular matrix\n"
     ]
    },
    {
     "name": "stderr",
     "output_type": "stream",
     "text": [
      "Rendering 2025-06: 100%|██████████| 706/706 [03:48<00:00,  3.08it/s]\n"
     ]
    },
    {
     "name": "stdout",
     "output_type": "stream",
     "text": [
      "✅ Saved C:\\Users\\krish\\Desktop\\SpatialCARE\\Hourly\\Outputs\\GIFs\\2025_06_AQI.gif\n"
     ]
    }
   ],
   "source": [
    "import pandas as pd\n",
    "import numpy as np\n",
    "import matplotlib.pyplot as plt\n",
    "import matplotlib.patches as mpatches\n",
    "from matplotlib.colors import ListedColormap, BoundaryNorm\n",
    "import imageio.v2 as imageio\n",
    "from io import BytesIO\n",
    "from tqdm import tqdm\n",
    "import geopandas as gpd\n",
    "from pykrige.ok import OrdinaryKriging\n",
    "import os\n",
    "\n",
    "# ==============================\n",
    "# User settings\n",
    "# ==============================\n",
    "CSV_FILE   = r\"C:\\Users\\krish\\Desktop\\SpatialCARE\\Hourly\\pasig_hourly_corrected.csv\"\n",
    "PASIG_SHP  = r\"C:\\Users\\krish\\Desktop\\PhD Class\\Shapefile\\MM\\Pasig\\Pasig.shp\"\n",
    "OUT_DIR    = r\"C:\\Users\\krish\\Desktop\\SpatialCARE\\Hourly\\Outputs\\GIFs\"\n",
    "os.makedirs(OUT_DIR, exist_ok=True)\n",
    "\n",
    "qa_mode   = False          # True = show first 5 frames only, False = render GIF\n",
    "months    = [5,6]           # choose which months to run\n",
    "frame_dur = 1.0           # seconds per frame in GIF\n",
    "fig_size  = (5, 5)        # fixed output size (inches)\n",
    "\n",
    "# AQI bins & colors (US EPA)\n",
    "aqi_bins   = [0, 50, 100, 150, 200, 300, 500]\n",
    "aqi_colors = [\"#00E400\", \"#FFFF00\", \"#FF7E00\",\n",
    "              \"#FF0000\", \"#8F3F97\", \"#7E0023\"]\n",
    "aqi_labels = [\n",
    "    \"Good (0-50)\",\n",
    "    \"Moderate (51-100)\",\n",
    "    \"Unhealthy for Sensitive (101-150)\",\n",
    "    \"Unhealthy (151-200)\",\n",
    "    \"Very Unhealthy (201-300)\",\n",
    "    \"Hazardous (301-500)\"\n",
    "]\n",
    "cmap = ListedColormap(aqi_colors)\n",
    "norm = BoundaryNorm(aqi_bins, cmap.N)\n",
    "\n",
    "# ==============================\n",
    "# Functions\n",
    "# ==============================\n",
    "def pm25_to_aqi(pm25):\n",
    "    \"\"\"Convert PM2.5 to AQI using US EPA breakpoints.\"\"\"\n",
    "    breakpoints = [\n",
    "        (0.0, 12.0, 0, 50),\n",
    "        (12.1, 35.4, 51, 100),\n",
    "        (35.5, 55.4, 101, 150),\n",
    "        (55.5, 150.4, 151, 200),\n",
    "        (150.5, 250.4, 201, 300),\n",
    "        (250.5, 500.4, 301, 500)\n",
    "    ]\n",
    "    for (c_low, c_high, aqi_low, aqi_high) in breakpoints:\n",
    "        if c_low <= pm25 <= c_high:\n",
    "            return ((aqi_high - aqi_low) / (c_high - c_low)) * (pm25 - c_low) + aqi_low\n",
    "    return 500\n",
    "\n",
    "# ==============================\n",
    "# Load data\n",
    "# ==============================\n",
    "df = pd.read_csv(CSV_FILE)\n",
    "df[\"datetime\"] = pd.to_datetime(df[\"Date\"] + \" \" + df[\"Time\"])\n",
    "df = df.set_index(\"datetime\").sort_index()\n",
    "\n",
    "# Convert PM2.5 → AQI\n",
    "df[\"AQI\"] = df[\"pm25\"].apply(pm25_to_aqi)\n",
    "\n",
    "# load Pasig shapefile\n",
    "pasig = gpd.read_file(PASIG_SHP)\n",
    "pasig_bounds = pasig.total_bounds\n",
    "\n",
    "# ==============================\n",
    "# Loop over months\n",
    "# ==============================\n",
    "for month in months:\n",
    "    group = df[(df.index.year == 2025) & (df.index.month == month)]\n",
    "    if group.empty:\n",
    "        print(f\"⚠️ No data found for 2025-{month:02d}\")\n",
    "        continue\n",
    "\n",
    "    if qa_mode:\n",
    "        print(f\"📅 QA Preview for 2025-{month:02d} (first 5 frames)...\")\n",
    "        iter_group = group.groupby(group.index)\n",
    "    else:\n",
    "        out_gif = os.path.join(OUT_DIR, f\"2025_{month:02d}_AQI.gif\")\n",
    "        writer = imageio.get_writer(out_gif, mode=\"I\", duration=frame_dur)\n",
    "        iter_group = tqdm(group.groupby(group.index), desc=f\"Rendering 2025-{month:02d}\")\n",
    "\n",
    "    for i, (t, g) in enumerate(iter_group):\n",
    "        if g.shape[0] <= 3:  # only run kriging if >3 stations\n",
    "            continue\n",
    "        if qa_mode and i >= 5:   # preview first 5 frames only\n",
    "            break\n",
    "\n",
    "        # Extract station data\n",
    "        lons, lats, values = g[\"longitude\"].values, g[\"latitude\"].values, g[\"AQI\"].values\n",
    "\n",
    "        # Grid for interpolation\n",
    "        grid_lon = np.linspace(pasig_bounds[0]-0.005, pasig_bounds[2]+0.005, 100)\n",
    "        grid_lat = np.linspace(pasig_bounds[1]-0.005, pasig_bounds[3]+0.005, 100)\n",
    "\n",
    "        # Ordinary Kriging\n",
    "        try:\n",
    "            OK = OrdinaryKriging(lons, lats, values, variogram_model=\"linear\",\n",
    "                                 verbose=False, enable_plotting=False)\n",
    "            z, ss = OK.execute(\"grid\", grid_lon, grid_lat)\n",
    "        except Exception as e:\n",
    "            print(f\"⚠️ Kriging failed at {t}: {e}\")\n",
    "            continue\n",
    "\n",
    "        # Plot\n",
    "        fig, ax = plt.subplots(figsize=fig_size)\n",
    "\n",
    "        # Pasig boundary\n",
    "        pasig.boundary.plot(ax=ax, edgecolor=\"black\", linewidth=0.3, zorder=1)\n",
    "\n",
    "        # Interpolated AQI surface (discrete bins)\n",
    "        im = ax.imshow(z, extent=(grid_lon.min(), grid_lon.max(),\n",
    "                                  grid_lat.min(), grid_lat.max()),\n",
    "                       cmap=cmap, norm=norm, alpha=0.6, origin=\"lower\", zorder=0)\n",
    "\n",
    "        # Plot stations\n",
    "        ax.scatter(lons, lats, c=[cmap(norm(v)) for v in values],\n",
    "                   s=60, edgecolor=\"k\", linewidth=0.5, zorder=2)\n",
    "        for x, y, val in zip(lons, lats, values):\n",
    "            ax.text(x+0.001, y+0.001, f\"{int(val)}\", fontsize=6, zorder=3)\n",
    "\n",
    "        ax.set_title(f\"PM2.5 AQI Kriging - {t.strftime('%Y-%m-%d %H:%M')}\", fontsize=10)\n",
    "        ax.set_xlim(pasig_bounds[0]-0.01, pasig_bounds[2]+0.01)\n",
    "        ax.set_ylim(pasig_bounds[1]-0.01, pasig_bounds[3]+0.01)\n",
    "\n",
    "        # Custom AQI legend\n",
    "        patches = [mpatches.Patch(color=aqi_colors[j], label=aqi_labels[j])\n",
    "                   for j in range(len(aqi_labels))]\n",
    "        ax.legend(handles=patches, loc=\"lower left\", fontsize=6, frameon=True)\n",
    "\n",
    "        if qa_mode:\n",
    "            plt.show()\n",
    "        else:\n",
    "            buf = BytesIO()\n",
    "            plt.savefig(buf, format=\"png\", dpi=100, bbox_inches=\"tight\")\n",
    "            buf.seek(0)\n",
    "            writer.append_data(imageio.imread(buf))\n",
    "        plt.close(fig)\n",
    "\n",
    "    if not qa_mode:\n",
    "        writer.close()\n",
    "        print(f\"✅ Saved {out_gif}\")"
   ]
  }
 ],
 "metadata": {
  "kernelspec": {
   "display_name": "CAREAQI",
   "language": "python",
   "name": "careaqi"
  },
  "language_info": {
   "codemirror_mode": {
    "name": "ipython",
    "version": 3
   },
   "file_extension": ".py",
   "mimetype": "text/x-python",
   "name": "python",
   "nbconvert_exporter": "python",
   "pygments_lexer": "ipython3",
   "version": "3.11.11"
  }
 },
 "nbformat": 4,
 "nbformat_minor": 5
}
